{
 "cells": [
  {
   "cell_type": "markdown",
   "id": "79d887ff-bd1f-401f-8716-069373c10e4a",
   "metadata": {},
   "source": [
    "Question1. Write a function that stutters a word as if someone is struggling to read it. The\n",
    "first two letters are repeated twice with an ellipsis ... and space after each, and then the\n",
    "word is pronounced with a question mark ?."
   ]
  },
  {
   "cell_type": "code",
   "execution_count": 1,
   "id": "c5fde07e-f5bb-48eb-a515-997a173db942",
   "metadata": {},
   "outputs": [
    {
     "name": "stdin",
     "output_type": "stream",
     "text": [
      "Enter the word  common\n"
     ]
    },
    {
     "name": "stdout",
     "output_type": "stream",
     "text": [
      "co...co...common?\n"
     ]
    }
   ],
   "source": [
    "word = input(\"Enter the word \")\n",
    "print(word[:2]+\"...\"+word[:2]+\"...\"+word+\"?\")\n"
   ]
  },
  {
   "cell_type": "markdown",
   "id": "c163e82e-ad0a-43a1-a559-dedcbd703f06",
   "metadata": {},
   "source": [
    "Question 2.Create a function that takes an angle in radians and returns the corresponding\n",
    "angle in degrees rounded to one decimal place."
   ]
  },
  {
   "cell_type": "code",
   "execution_count": 2,
   "id": "21a5d148-3ada-467b-8edd-d4797a4117ed",
   "metadata": {},
   "outputs": [
    {
     "name": "stdout",
     "output_type": "stream",
     "text": [
      "1145.9\n"
     ]
    }
   ],
   "source": [
    "import math\n",
    "\n",
    "\n",
    "def radians_to_degrees(radian):\n",
    "    degree = radian * 180 / math.pi\n",
    "    return round(degree, 1)\n",
    "\n",
    "print(radians_to_degrees(20))"
   ]
  },
  {
   "cell_type": "markdown",
   "id": "7355d4c8-af10-41d0-8666-e5fcb1011c14",
   "metadata": {},
   "source": [
    "Question 3. In this challenge, establish if a given integer num is a Curzon number. If 1 plus\n",
    "2 elevated to num is exactly divisible by 1 plus 2 multiplied by num, then num is a Curzon\n",
    "number.\n",
    "Given a non-negative integer num, implement a function that returns True if num is a Curzon\n",
    "number, or False otherwise."
   ]
  },
  {
   "cell_type": "code",
   "execution_count": 3,
   "id": "35f565d6-ba28-42e4-bbab-a051f39fbc52",
   "metadata": {},
   "outputs": [
    {
     "name": "stdout",
     "output_type": "stream",
     "text": [
      "True\n"
     ]
    }
   ],
   "source": [
    "def is_curzon(num):\n",
    "    x = 2**num + 1\n",
    "    y = 2*num + 1\n",
    "    return x % y == 0\n",
    "\n",
    "print(is_curzon(5))"
   ]
  },
  {
   "cell_type": "markdown",
   "id": "c19da4f9-baef-4bd3-8aa4-7ab845717730",
   "metadata": {},
   "source": [
    "Question 4.Given the side length x find the area of a hexagon."
   ]
  },
  {
   "cell_type": "code",
   "execution_count": 4,
   "id": "8e4f6ec0-186c-4100-bac5-55f904db9e26",
   "metadata": {},
   "outputs": [
    {
     "name": "stdout",
     "output_type": "stream",
     "text": [
      "10.4\n"
     ]
    }
   ],
   "source": [
    "def area_of_hexagon(s):\n",
    "    return round(3*(3**0.5)*(s**2)/2,1)\n",
    "\n",
    "\n",
    "print(area_of_hexagon(2))"
   ]
  },
  {
   "cell_type": "markdown",
   "id": "aca5ca95-9738-4491-8253-1c5e191aa864",
   "metadata": {},
   "source": [
    "Question 5. Create a function that returns a base-2 (binary) representation of a base-10\n",
    "(decimal) string number. To convert is simple: ((2) means base-2 and (10) means base-10)\n",
    "010101001(2) = 1 + 8 + 32 + 128.\n",
    "Going from right to left, the value of the most right bit is 1, now from that every bit to the left\n",
    "will be x2 the value, value of an 8 bit binary numbers are (256, 128, 64, 32, 16, 8, 4, 2, 1)."
   ]
  },
  {
   "cell_type": "code",
   "execution_count": 5,
   "id": "5c5e17df-fbb4-4b11-b8b2-247da5059942",
   "metadata": {},
   "outputs": [
    {
     "name": "stdout",
     "output_type": "stream",
     "text": [
      "101\n"
     ]
    }
   ],
   "source": [
    "def binary(decimal):\n",
    "    binary = \"\"\n",
    "    while decimal>0:\n",
    "        binary += str(decimal%2)\n",
    "        decimal //= 2\n",
    "    return binary\n",
    "\n",
    "\n",
    "print(binary(5))"
   ]
  }
 ],
 "metadata": {
  "kernelspec": {
   "display_name": "Python 3 (ipykernel)",
   "language": "python",
   "name": "python3"
  },
  "language_info": {
   "codemirror_mode": {
    "name": "ipython",
    "version": 3
   },
   "file_extension": ".py",
   "mimetype": "text/x-python",
   "name": "python",
   "nbconvert_exporter": "python",
   "pygments_lexer": "ipython3",
   "version": "3.9.13"
  }
 },
 "nbformat": 4,
 "nbformat_minor": 5
}
