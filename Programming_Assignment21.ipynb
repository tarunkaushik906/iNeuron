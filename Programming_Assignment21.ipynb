{
 "cells": [
  {
   "cell_type": "markdown",
   "id": "3618e01a-9323-45f2-99d3-18385e01c939",
   "metadata": {},
   "source": [
    "Question1\n",
    "Write a function that takes a list and a number as arguments. Add the number to the end of\n",
    "the list, then remove the first element of the list. The function should then return the updated\n",
    "list."
   ]
  },
  {
   "cell_type": "code",
   "execution_count": 1,
   "id": "c11e4305-97ae-4278-a7ad-790b67735e70",
   "metadata": {},
   "outputs": [
    {
     "name": "stdout",
     "output_type": "stream",
     "text": [
      "[10, 20, 42, 6]\n"
     ]
    }
   ],
   "source": [
    "def next_in_line(lst,num):\n",
    "    if len(lst)!=0:\n",
    "        return lst[1:]+[num]\n",
    "    else:\n",
    "        return \"No list has been selected\"\n",
    "\n",
    "\n",
    "print(next_in_line([1, 10, 20, 42 ], 6))"
   ]
  },
  {
   "cell_type": "markdown",
   "id": "beac01fc-ba0d-4ea0-9df0-98f42970a5d4",
   "metadata": {},
   "source": [
    "Question2\n",
    "Create the function that takes a list of dictionaries and returns the sum of people's budgets."
   ]
  },
  {
   "cell_type": "code",
   "execution_count": 2,
   "id": "f892ba77-407c-41b8-b9f1-8146a4abf045",
   "metadata": {},
   "outputs": [
    {
     "name": "stdout",
     "output_type": "stream",
     "text": [
      "63000\n"
     ]
    }
   ],
   "source": [
    "def get_budget(lst):\n",
    "    total = 0\n",
    "    for i in lst:\n",
    "        total += i[\"budget\"]\n",
    "    return total\n",
    "\n",
    "\n",
    "print(get_budget([{\"name\":\"John\", \"age\": 21,\"budget\":23000 },{\"name\":\"Steve\", \"age\": 42,\"budget\":40000}]))"
   ]
  },
  {
   "cell_type": "markdown",
   "id": "5f8a8af5-381d-47a5-a6a8-e0c44bce747d",
   "metadata": {},
   "source": [
    "Question3\n",
    "Create a function that takes a string and returns a string with its letters in alphabetical order."
   ]
  },
  {
   "cell_type": "code",
   "execution_count": 3,
   "id": "c7493203-269e-4a4d-b76f-f81a064bae9c",
   "metadata": {},
   "outputs": [
    {
     "name": "stdout",
     "output_type": "stream",
     "text": [
      "ehllo\n"
     ]
    }
   ],
   "source": [
    "def alphabet_soup(word):\n",
    "\n",
    "    return \"\".join(sorted(word))\n",
    "\n",
    "print(alphabet_soup(\"hello\"))"
   ]
  },
  {
   "cell_type": "markdown",
   "id": "7602d373-e8a9-4009-98c3-349916dcf046",
   "metadata": {},
   "source": [
    "Question4\n",
    "Create a function that accepts the principal p, the term in years t, the interest rate r, and the\n",
    "number of compounding periods per year n. The function returns the value at the end of term\n",
    "rounded to the nearest cent."
   ]
  },
  {
   "cell_type": "code",
   "execution_count": 5,
   "id": "e242bcea-6f56-429c-a78d-a2807b300a51",
   "metadata": {},
   "outputs": [
    {
     "name": "stdout",
     "output_type": "stream",
     "text": [
      "15399.26\n"
     ]
    }
   ],
   "source": [
    "def compound_interest(p,t,r,n):\n",
    "    return round(p*((1+(r/n))**(n*t)),2)\n",
    "\n",
    "print(compound_interest(3500, 15, 0.1, 4))"
   ]
  },
  {
   "cell_type": "markdown",
   "id": "01e69d02-4f39-47b3-8661-edda944f4950",
   "metadata": {},
   "source": [
    "Question5\n",
    "Write a function that takes a list of elements and returns only the integers."
   ]
  },
  {
   "cell_type": "code",
   "execution_count": 4,
   "id": "5544536c-f950-4c67-be6c-739eff948f8f",
   "metadata": {},
   "outputs": [
    {
     "name": "stdout",
     "output_type": "stream",
     "text": [
      "[1, 2]\n"
     ]
    }
   ],
   "source": [
    "def filter_list(lst):\n",
    "    result = []\n",
    "    for i in lst:\n",
    "        if str(i).isdigit():\n",
    "            result.append(i)\n",
    "    return result\n",
    "\n",
    "\n",
    "print(filter_list([1,2,\"a\",\"b\"]))"
   ]
  },
  {
   "cell_type": "code",
   "execution_count": null,
   "id": "060a5649-00a3-48a1-8c60-9ebecc3f1ab9",
   "metadata": {},
   "outputs": [],
   "source": []
  }
 ],
 "metadata": {
  "kernelspec": {
   "display_name": "Python 3 (ipykernel)",
   "language": "python",
   "name": "python3"
  },
  "language_info": {
   "codemirror_mode": {
    "name": "ipython",
    "version": 3
   },
   "file_extension": ".py",
   "mimetype": "text/x-python",
   "name": "python",
   "nbconvert_exporter": "python",
   "pygments_lexer": "ipython3",
   "version": "3.9.13"
  }
 },
 "nbformat": 4,
 "nbformat_minor": 5
}
