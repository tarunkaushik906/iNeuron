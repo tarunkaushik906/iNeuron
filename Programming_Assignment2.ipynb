{
 "cells": [
  {
   "cell_type": "markdown",
   "id": "b3a83e67-17f3-4a5d-8c34-65ff75618b43",
   "metadata": {},
   "source": [
    "1. Write a Python program to convert kilometers to miles?"
   ]
  },
  {
   "cell_type": "code",
   "execution_count": 1,
   "id": "f4fb1c2e-c4ef-484e-beef-2b9d7700ec77",
   "metadata": {},
   "outputs": [
    {
     "name": "stdin",
     "output_type": "stream",
     "text": [
      "Enter kilometers  5\n"
     ]
    },
    {
     "name": "stdout",
     "output_type": "stream",
     "text": [
      "3.106855\n"
     ]
    }
   ],
   "source": [
    "km = int(input(\"Enter kilometers \"))\n",
    "miles = km*0.621371\n",
    "print(miles)"
   ]
  },
  {
   "cell_type": "markdown",
   "id": "e24d7c6d-42af-42d2-87f7-36818e0b3c4a",
   "metadata": {},
   "source": [
    "2. Write a Python program to convert Celsius to Fahrenheit?"
   ]
  },
  {
   "cell_type": "code",
   "execution_count": 5,
   "id": "1732c6f0-8762-4e2f-9477-7dc9fbc81d53",
   "metadata": {},
   "outputs": [
    {
     "name": "stdin",
     "output_type": "stream",
     "text": [
      "Enter temp in celsius  32\n"
     ]
    },
    {
     "name": "stdout",
     "output_type": "stream",
     "text": [
      "89.6\n"
     ]
    }
   ],
   "source": [
    "cel = int(input(\"Enter temp in celsius \"))\n",
    "fah = (cel*9/5)+32\n",
    "print(fah)"
   ]
  },
  {
   "cell_type": "markdown",
   "id": "bdba1418-c36a-4c0f-b10f-ba49711eb1b8",
   "metadata": {},
   "source": [
    "3. Write a Python program to display calendar?"
   ]
  },
  {
   "cell_type": "code",
   "execution_count": 6,
   "id": "dd2e0629-ed34-44e9-a281-882243997609",
   "metadata": {},
   "outputs": [
    {
     "name": "stdin",
     "output_type": "stream",
     "text": [
      "Enter year  2022\n",
      "Enter month  12\n"
     ]
    },
    {
     "name": "stdout",
     "output_type": "stream",
     "text": [
      "   December 2022\n",
      "Mo Tu We Th Fr Sa Su\n",
      "          1  2  3  4\n",
      " 5  6  7  8  9 10 11\n",
      "12 13 14 15 16 17 18\n",
      "19 20 21 22 23 24 25\n",
      "26 27 28 29 30 31\n",
      "\n"
     ]
    }
   ],
   "source": [
    "import calendar\n",
    "yy = int(input(\"Enter year \"))\n",
    "month = int(input(\"Enter month \"))\n",
    "print(calendar.month(yy,month))"
   ]
  },
  {
   "cell_type": "markdown",
   "id": "aed2eea5-a71e-4b40-aa0f-b81a977eaa1b",
   "metadata": {},
   "source": [
    "4. Write a Python program to solve quadratic equation?"
   ]
  },
  {
   "cell_type": "code",
   "execution_count": 11,
   "id": "c9701400-35d9-4829-9364-1407eb46a0ef",
   "metadata": {},
   "outputs": [
    {
     "name": "stdin",
     "output_type": "stream",
     "text": [
      "Enter the value of a:  5\n",
      "Enter the value of b:  1\n",
      "Enter the value of c:  -1\n"
     ]
    },
    {
     "name": "stdout",
     "output_type": "stream",
     "text": [
      "0.35825756949558396 -0.558257569495584\n"
     ]
    }
   ],
   "source": [
    "a = int(input(\"Enter the value of a: \"))\n",
    "b = int(input(\"Enter the value of b: \"))\n",
    "c = int(input(\"Enter the value of c: \"))\n",
    "\n",
    "temp = (b**2 - 4*a*c)**0.5\n",
    "x1 = (-b + temp)/(2*a)\n",
    "x2 = (-b-temp)/(2*a)\n",
    "print(x1,x2)"
   ]
  },
  {
   "cell_type": "markdown",
   "id": "d1758a0a-00c4-4876-aaab-a9173eca542c",
   "metadata": {},
   "source": [
    "5. Write a Python program to swap two variables without temp variable?"
   ]
  },
  {
   "cell_type": "code",
   "execution_count": 3,
   "id": "0e80dc31-2ea1-4a17-9164-b4c73ed3382e",
   "metadata": {},
   "outputs": [
    {
     "name": "stdin",
     "output_type": "stream",
     "text": [
      "a  5\n",
      "b  9\n"
     ]
    },
    {
     "name": "stdout",
     "output_type": "stream",
     "text": [
      "a=  9\n",
      "b=  5\n"
     ]
    }
   ],
   "source": [
    "a = int(input(\"a \"))\n",
    "b = int(input(\"b \"))\n",
    "a,b = b,a\n",
    "print(\"a= \",a)\n",
    "print(\"b= \",b)"
   ]
  }
 ],
 "metadata": {
  "kernelspec": {
   "display_name": "Python 3 (ipykernel)",
   "language": "python",
   "name": "python3"
  },
  "language_info": {
   "codemirror_mode": {
    "name": "ipython",
    "version": 3
   },
   "file_extension": ".py",
   "mimetype": "text/x-python",
   "name": "python",
   "nbconvert_exporter": "python",
   "pygments_lexer": "ipython3",
   "version": "3.9.13"
  }
 },
 "nbformat": 4,
 "nbformat_minor": 5
}
