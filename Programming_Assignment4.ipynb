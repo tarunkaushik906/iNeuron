{
 "cells": [
  {
   "cell_type": "markdown",
   "id": "de5a5279-baf4-4cdb-9790-5f24cb9a0f69",
   "metadata": {},
   "source": [
    "1. Write a Python Program to Find the Factorial of a Number?"
   ]
  },
  {
   "cell_type": "code",
   "execution_count": 1,
   "id": "c4c67e3a-05d1-4806-b44c-f16e60bb49e0",
   "metadata": {},
   "outputs": [
    {
     "name": "stdin",
     "output_type": "stream",
     "text": [
      "Enter the number  5\n"
     ]
    },
    {
     "name": "stdout",
     "output_type": "stream",
     "text": [
      "120\n"
     ]
    }
   ],
   "source": [
    "number = int(input(\"Enter the number \"))\n",
    "fact = 1\n",
    "for i in range(number,0,-1):\n",
    "    fact *= i\n",
    "print(fact)"
   ]
  },
  {
   "cell_type": "markdown",
   "id": "1ecc1f5c-180d-456c-ae75-003d021ebafa",
   "metadata": {},
   "source": [
    "2. Write a Python Program to Display the multiplication Table?"
   ]
  },
  {
   "cell_type": "code",
   "execution_count": 2,
   "id": "62d62759-9ac6-4889-9dea-2cd48b47264c",
   "metadata": {},
   "outputs": [
    {
     "name": "stdin",
     "output_type": "stream",
     "text": [
      "Enter the number  3\n"
     ]
    },
    {
     "name": "stdout",
     "output_type": "stream",
     "text": [
      "3 * 1 = 3\n",
      "3 * 2 = 6\n",
      "3 * 3 = 9\n",
      "3 * 4 = 12\n",
      "3 * 5 = 15\n",
      "3 * 6 = 18\n",
      "3 * 7 = 21\n",
      "3 * 8 = 24\n",
      "3 * 9 = 27\n",
      "3 * 10 = 30\n"
     ]
    }
   ],
   "source": [
    "number = int(input(\"Enter the number \"))\n",
    "for i in range(1,11):\n",
    "    print(number,\"*\",i,\"=\",number*i)"
   ]
  },
  {
   "cell_type": "markdown",
   "id": "4619a6fd-36df-4c83-8ef0-81386ec29f91",
   "metadata": {},
   "source": [
    "3. Write a Python Program to Print the Fibonacci sequence?"
   ]
  },
  {
   "cell_type": "code",
   "execution_count": 13,
   "id": "0f140188-8bc7-4707-9ee4-3b65825e1b1d",
   "metadata": {},
   "outputs": [
    {
     "name": "stdin",
     "output_type": "stream",
     "text": [
      "Enter the number of terms of sequence  5\n"
     ]
    },
    {
     "name": "stdout",
     "output_type": "stream",
     "text": [
      "0 1 1 2 3 "
     ]
    }
   ],
   "source": [
    "n = int(input(\"Enter the number of terms of sequence \"))\n",
    "if n < 0:\n",
    "    print(\"Incorrect input\")\n",
    "elif n == 1:\n",
    "    print(0)\n",
    "else:\n",
    "    a = 0\n",
    "    b = 1\n",
    "    print(a, b, end=\" \")\n",
    "    for i in range(3, n+1):\n",
    "        a, b = b, a+b\n",
    "        print(b,end=\" \")"
   ]
  },
  {
   "cell_type": "markdown",
   "id": "c65ada49-bc28-4568-8a8d-33a925b502d1",
   "metadata": {},
   "source": [
    "4. Write a Python Program to Check Armstrong Number?"
   ]
  },
  {
   "cell_type": "code",
   "execution_count": 5,
   "id": "70a52923-74d7-4a96-978e-cd34f54a38ba",
   "metadata": {},
   "outputs": [
    {
     "name": "stdin",
     "output_type": "stream",
     "text": [
      "Enter the number  371\n"
     ]
    },
    {
     "name": "stdout",
     "output_type": "stream",
     "text": [
      "371 is Armstrong number\n"
     ]
    }
   ],
   "source": [
    "number = int(input(\"Enter the number \"))\n",
    "temp = number\n",
    "arm = 0\n",
    "while temp>0:\n",
    "    arm += (temp%10)**3\n",
    "    temp //= 10\n",
    "if arm == number:\n",
    "    print(number, \"is Armstrong number\")\n",
    "else:\n",
    "    print(number, \"is not Armstrong number\")"
   ]
  },
  {
   "cell_type": "markdown",
   "id": "2061be4d-eee7-45f1-a89c-00aa7321ad6c",
   "metadata": {},
   "source": [
    "5. Write a Python Program to Find Armstrong Number in an Interval?"
   ]
  },
  {
   "cell_type": "code",
   "execution_count": 7,
   "id": "5b96c027-f892-48f9-a4ae-d806b59f9225",
   "metadata": {},
   "outputs": [
    {
     "name": "stdin",
     "output_type": "stream",
     "text": [
      "Enter the number  400\n"
     ]
    },
    {
     "name": "stdout",
     "output_type": "stream",
     "text": [
      "0\n",
      "1\n",
      "153\n",
      "370\n",
      "371\n"
     ]
    }
   ],
   "source": [
    "number = int(input(\"Enter the number \"))\n",
    "t = 0\n",
    "while t<=number:\n",
    "    temp = t\n",
    "    arm = 0\n",
    "    while temp>0:\n",
    "        arm += (temp%10)**3\n",
    "        temp //= 10\n",
    "    if arm == t:\n",
    "        print(t)\n",
    "    t += 1"
   ]
  },
  {
   "cell_type": "markdown",
   "id": "d40d3c96-c42b-4805-be70-353be018af0f",
   "metadata": {},
   "source": [
    "6. Write a Python Program to Find the Sum of Natural Numbers?"
   ]
  },
  {
   "cell_type": "code",
   "execution_count": 12,
   "id": "95b8b010-1169-48e6-a9b7-509fb850b050",
   "metadata": {},
   "outputs": [
    {
     "name": "stdin",
     "output_type": "stream",
     "text": [
      "Enter the number  0\n"
     ]
    },
    {
     "name": "stdout",
     "output_type": "stream",
     "text": [
      "0\n"
     ]
    }
   ],
   "source": [
    "number = int(input(\"Enter the number \"))\n",
    "sumall = 0\n",
    "for i in range(number+1):\n",
    "    sumall += i\n",
    "print(sumall)\n",
    "    "
   ]
  },
  {
   "cell_type": "code",
   "execution_count": null,
   "id": "f45dbf2e-7a62-43f4-9b3f-f7dbc9475336",
   "metadata": {},
   "outputs": [],
   "source": []
  }
 ],
 "metadata": {
  "kernelspec": {
   "display_name": "Python 3 (ipykernel)",
   "language": "python",
   "name": "python3"
  },
  "language_info": {
   "codemirror_mode": {
    "name": "ipython",
    "version": 3
   },
   "file_extension": ".py",
   "mimetype": "text/x-python",
   "name": "python",
   "nbconvert_exporter": "python",
   "pygments_lexer": "ipython3",
   "version": "3.9.13"
  }
 },
 "nbformat": 4,
 "nbformat_minor": 5
}
