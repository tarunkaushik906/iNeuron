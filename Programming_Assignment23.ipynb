{
 "cells": [
  {
   "cell_type": "markdown",
   "id": "a511e484-c8c7-413b-a1f3-623b792a3be2",
   "metadata": {},
   "source": [
    "Question 1\n",
    "Create a function that takes a number as an argument and returns True or False depending\n",
    "on whether the number is symmetrical or not. A number is symmetrical when it is the same as\n",
    "its reverse."
   ]
  },
  {
   "cell_type": "code",
   "execution_count": 1,
   "id": "b20cfd03-68f8-4494-8ca7-9414b59065a9",
   "metadata": {},
   "outputs": [
    {
     "name": "stdout",
     "output_type": "stream",
     "text": [
      "False\n"
     ]
    }
   ],
   "source": [
    "def is_symmetrical(N):\n",
    "    N = str(N)\n",
    "    return N==N[::-1]\n",
    "\n",
    "print(is_symmetrical(9939))"
   ]
  },
  {
   "cell_type": "markdown",
   "id": "35299a2a-7004-40dd-a4f1-605d0f347dfd",
   "metadata": {},
   "source": [
    "Question 2\n",
    "Given a string of numbers separated by a comma and space, return the product of the\n",
    "numbers."
   ]
  },
  {
   "cell_type": "code",
   "execution_count": 2,
   "id": "0a3066ef-0845-4fec-b839-311545d26c92",
   "metadata": {},
   "outputs": [
    {
     "name": "stdout",
     "output_type": "stream",
     "text": [
      "24\n"
     ]
    }
   ],
   "source": [
    "def multiply_nums(number):\n",
    "    lst = list(map(int,number.split(\",\")))\n",
    "    product = 1\n",
    "    for i in lst:\n",
    "        product *= i\n",
    "    return product\n",
    "\n",
    "print(multiply_nums(\"1, 2, 3, 4\"))"
   ]
  },
  {
   "cell_type": "markdown",
   "id": "426b325c-31d0-4621-b1d2-9886b521b689",
   "metadata": {},
   "source": [
    "Question 3\n",
    "Create a function that squares every digit of a number."
   ]
  },
  {
   "cell_type": "code",
   "execution_count": 3,
   "id": "1a6cb7db-4279-4862-8c54-acbd6efefbca",
   "metadata": {},
   "outputs": [
    {
     "name": "stdout",
     "output_type": "stream",
     "text": [
      "811181\n"
     ]
    }
   ],
   "source": [
    "def square_digits(N):\n",
    "    N = str(N)\n",
    "    result = \"\"\n",
    "    for i in N:\n",
    "        result += str(int(i)**2)\n",
    "    return result\n",
    "\n",
    "print(square_digits(9119))"
   ]
  },
  {
   "cell_type": "markdown",
   "id": "3280dccc-79a8-4bfb-b437-6fcd324b0e6a",
   "metadata": {},
   "source": [
    "Question 4\n",
    "Create a function that sorts a list and removes all duplicate items from it."
   ]
  },
  {
   "cell_type": "code",
   "execution_count": 4,
   "id": "21f41670-c8f5-446f-80e7-be8c175b782c",
   "metadata": {},
   "outputs": [
    {
     "name": "stdout",
     "output_type": "stream",
     "text": [
      "[1, 3, 5]\n"
     ]
    }
   ],
   "source": [
    "def setify(lst):\n",
    "    lst = list(set(lst))\n",
    "    lst.sort()\n",
    "    return lst\n",
    "\n",
    "print(setify([1, 3, 3, 5, 5]))"
   ]
  },
  {
   "cell_type": "markdown",
   "id": "a8cb3526-1a65-4c65-a62a-95b93a662831",
   "metadata": {},
   "source": [
    "Question 5\n",
    "Create a function that returns the mean of all digits."
   ]
  },
  {
   "cell_type": "code",
   "execution_count": 5,
   "id": "69d66dba-e74f-46c2-8d83-5eafe021f0b0",
   "metadata": {},
   "outputs": [
    {
     "name": "stdout",
     "output_type": "stream",
     "text": [
      "3\n"
     ]
    }
   ],
   "source": [
    "def mean(N):\n",
    "    N = str(N)\n",
    "    sum1 = 0\n",
    "    for i in N:\n",
    "        sum1 += int(i)\n",
    "    return sum1//len(N)\n",
    "\n",
    "print(mean(42))"
   ]
  }
 ],
 "metadata": {
  "kernelspec": {
   "display_name": "Python 3 (ipykernel)",
   "language": "python",
   "name": "python3"
  },
  "language_info": {
   "codemirror_mode": {
    "name": "ipython",
    "version": 3
   },
   "file_extension": ".py",
   "mimetype": "text/x-python",
   "name": "python",
   "nbconvert_exporter": "python",
   "pygments_lexer": "ipython3",
   "version": "3.9.13"
  }
 },
 "nbformat": 4,
 "nbformat_minor": 5
}
