{
 "cells": [
  {
   "cell_type": "markdown",
   "id": "a7d1e97f-4e0d-40dd-9d6a-d834ad8bf750",
   "metadata": {},
   "source": [
    "1. Write a Python program to find words which are greater than given length k?"
   ]
  },
  {
   "cell_type": "code",
   "execution_count": 1,
   "id": "0115730b-bbd5-4dc2-9a5e-184082155263",
   "metadata": {},
   "outputs": [
    {
     "name": "stdin",
     "output_type": "stream",
     "text": [
      "Enter the words  xyx fsdsf kfhiudn ouths keikdsn\n",
      "Enter the value of k  4\n"
     ]
    },
    {
     "name": "stdout",
     "output_type": "stream",
     "text": [
      "fsdsf kfhiudn ouths keikdsn "
     ]
    }
   ],
   "source": [
    "lst = input(\"Enter the words \").split()\n",
    "k = int(input(\"Enter the value of k \"))\n",
    "for i in lst:\n",
    "    if len(i) > k:\n",
    "        print(i, end=\" \")"
   ]
  },
  {
   "cell_type": "markdown",
   "id": "c07c2b22-5cb0-480f-b0ae-232a9faa9dd0",
   "metadata": {},
   "source": [
    "2. Write a Python program for removing i-th character from a string?"
   ]
  },
  {
   "cell_type": "code",
   "execution_count": 2,
   "id": "d29cfc95-e791-455e-92ab-3a7666612d63",
   "metadata": {},
   "outputs": [
    {
     "name": "stdin",
     "output_type": "stream",
     "text": [
      "Enter the word  string\n",
      "Enter the value of i  3\n"
     ]
    },
    {
     "name": "stdout",
     "output_type": "stream",
     "text": [
      "sting\n"
     ]
    }
   ],
   "source": [
    "lst = input(\"Enter the word \")\n",
    "lst = list(lst)\n",
    "i = int(input(\"Enter the value of i \"))\n",
    "\n",
    "if i>len(lst):\n",
    "    print(\"Invalid value of i\")\n",
    "else:\n",
    "    lst.pop(i-1)\n",
    "    \n",
    "print(\"\".join(lst))"
   ]
  },
  {
   "cell_type": "markdown",
   "id": "1fcb6d43-678c-4ca7-930c-de4fb06ff0bf",
   "metadata": {},
   "source": [
    "3. Write a Python program to split and join a string?"
   ]
  },
  {
   "cell_type": "code",
   "execution_count": 3,
   "id": "6a6e7a30-aa6f-4027-aa47-72e453e4d209",
   "metadata": {},
   "outputs": [
    {
     "name": "stdin",
     "output_type": "stream",
     "text": [
      "Enter the words  man goes\n"
     ]
    },
    {
     "name": "stdout",
     "output_type": "stream",
     "text": [
      "['man', 'goes']\n",
      "mangoes\n"
     ]
    }
   ],
   "source": [
    "lst = input(\"Enter the words \").split()\n",
    "print(lst)\n",
    "print(\"\".join(lst))"
   ]
  },
  {
   "cell_type": "markdown",
   "id": "8d970e4a-c45b-459d-b179-d96a14b75fff",
   "metadata": {},
   "source": [
    "4. Write a Python to check if a given string is binary string or not?"
   ]
  },
  {
   "cell_type": "code",
   "execution_count": 7,
   "id": "fb848efe-cd7e-462e-b1a5-48ba8fc66bbd",
   "metadata": {},
   "outputs": [
    {
     "name": "stdin",
     "output_type": "stream",
     "text": [
      "Enter the string  1001105110\n"
     ]
    },
    {
     "name": "stdout",
     "output_type": "stream",
     "text": [
      "String is not binary\n"
     ]
    }
   ],
   "source": [
    "s = input(\"Enter the string \")\n",
    "for i in s:\n",
    "    if i not in \"01\":\n",
    "        print(\"String is not binary\")\n",
    "        break\n",
    "else:\n",
    "    print(\"String is binary\")"
   ]
  },
  {
   "cell_type": "markdown",
   "id": "42161aeb-7afc-483f-8f10-126ddce42386",
   "metadata": {},
   "source": [
    "5. Write a Python program to find uncommon words from two Strings?"
   ]
  },
  {
   "cell_type": "code",
   "execution_count": 4,
   "id": "a23a7ec8-9e2e-4253-895e-75ec9311c921",
   "metadata": {},
   "outputs": [
    {
     "name": "stdin",
     "output_type": "stream",
     "text": [
      "Enter the words  apple cherry guava\n",
      "Enter the words  apple microsoft google\n"
     ]
    },
    {
     "name": "stdout",
     "output_type": "stream",
     "text": [
      "google microsoft cherry guava\n"
     ]
    }
   ],
   "source": [
    "set1 = set(input(\"Enter the words \").split())\n",
    "set2 = set(input(\"Enter the words \").split())\n",
    "\n",
    "s = set1.symmetric_difference(set2)\n",
    "print(\" \".join(s))"
   ]
  },
  {
   "cell_type": "markdown",
   "id": "913f4808-1761-4f4e-a35c-59b45bfec8d1",
   "metadata": {},
   "source": [
    "6. Write a Python to find all duplicate characters in string?"
   ]
  },
  {
   "cell_type": "code",
   "execution_count": 5,
   "id": "c4f4de34-94af-4f2c-9ee8-4431066bd94e",
   "metadata": {},
   "outputs": [
    {
     "name": "stdin",
     "output_type": "stream",
     "text": [
      "Enter the string  common\n"
     ]
    },
    {
     "name": "stdout",
     "output_type": "stream",
     "text": [
      "o\n",
      "m\n"
     ]
    }
   ],
   "source": [
    "s = input(\"Enter the string \")\n",
    "set1 = set(s)\n",
    "for i in set1:\n",
    "    if s.count(i) > 1:\n",
    "        print(i)"
   ]
  },
  {
   "cell_type": "markdown",
   "id": "b580e968-c438-497a-83ae-af938abddfb3",
   "metadata": {},
   "source": [
    "7. Write a Python Program to check if a string contains any special character?"
   ]
  },
  {
   "cell_type": "code",
   "execution_count": 6,
   "id": "8be32209-dd3d-4ca9-b2d3-e64c746a0261",
   "metadata": {},
   "outputs": [
    {
     "name": "stdin",
     "output_type": "stream",
     "text": [
      "Enter the string  dsffskj/jsdfsj(\n"
     ]
    },
    {
     "name": "stdout",
     "output_type": "stream",
     "text": [
      "String has special character\n"
     ]
    }
   ],
   "source": [
    "s = input(\"Enter the string \")\n",
    "for i in s:\n",
    "    if i in ''' !\"#$%&'()*+,-./:;<=>?@[\\]^_`{|}~''':\n",
    "        print(\"String has special character\")\n",
    "        break\n",
    "else:\n",
    "    print(\"String has no special characters\")"
   ]
  }
 ],
 "metadata": {
  "kernelspec": {
   "display_name": "Python 3 (ipykernel)",
   "language": "python",
   "name": "python3"
  },
  "language_info": {
   "codemirror_mode": {
    "name": "ipython",
    "version": 3
   },
   "file_extension": ".py",
   "mimetype": "text/x-python",
   "name": "python",
   "nbconvert_exporter": "python",
   "pygments_lexer": "ipython3",
   "version": "3.9.13"
  }
 },
 "nbformat": 4,
 "nbformat_minor": 5
}
