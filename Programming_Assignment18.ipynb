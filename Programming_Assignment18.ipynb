{
 "cells": [
  {
   "cell_type": "markdown",
   "id": "7735f874-5419-4cd8-9694-de0089e7102d",
   "metadata": {},
   "source": [
    "Question 1\n",
    "Create a function that takes a list of non-negative integers and strings and return a new list\n",
    "without the strings."
   ]
  },
  {
   "cell_type": "code",
   "execution_count": 1,
   "id": "4720f198-61c7-490c-99e2-a6e30e8a085f",
   "metadata": {},
   "outputs": [
    {
     "name": "stdout",
     "output_type": "stream",
     "text": [
      "[1, 2]\n"
     ]
    }
   ],
   "source": [
    "def filter_list(lst):\n",
    "    result = []\n",
    "    for i in lst:\n",
    "        if str(i).isdigit():\n",
    "            result.append(i)\n",
    "    return result\n",
    "\n",
    "\n",
    "print(filter_list([1,2,\"a\",\"b\"]))"
   ]
  },
  {
   "cell_type": "markdown",
   "id": "004a7318-3d67-446f-88e9-9998fee9c3a7",
   "metadata": {},
   "source": [
    "Question 2\n",
    "The \"Reverser\" takes a string as input and returns that string in reverse order, with the\n",
    "opposite case."
   ]
  },
  {
   "cell_type": "code",
   "execution_count": 2,
   "id": "b381bf50-994e-4c3e-b62e-3c23f33ea4fa",
   "metadata": {},
   "outputs": [
    {
     "name": "stdout",
     "output_type": "stream",
     "text": [
      "DLROw OLLEh\n"
     ]
    }
   ],
   "source": [
    "def reverse(sentence):\n",
    "    sentence = sentence[::-1]\n",
    "    result = \"\"\n",
    "    for i in sentence:\n",
    "        if i.islower():\n",
    "            result += i.upper()\n",
    "        else:\n",
    "            result += i.lower()\n",
    "\n",
    "    return result\n",
    "\n",
    "\n",
    "print(reverse(\"Hello World\"))"
   ]
  },
  {
   "cell_type": "markdown",
   "id": "a2486aa8-a87e-4c7d-b2c3-f1eb359237da",
   "metadata": {},
   "source": [
    "Question 3\n",
    "You can assign variables from lists like this:"
   ]
  },
  {
   "cell_type": "code",
   "execution_count": 3,
   "id": "ff9424c8-290f-4534-b1e1-2384b6e77fac",
   "metadata": {},
   "outputs": [
    {
     "name": "stdout",
     "output_type": "stream",
     "text": [
      "1\n",
      "[2, 3, 4, 5]\n",
      "6\n"
     ]
    }
   ],
   "source": [
    "lst = [1, 2, 3, 4, 5, 6]\n",
    "first, *middle, last = lst\n",
    "\n",
    "print(first)\n",
    "print(middle)\n",
    "print(last)"
   ]
  },
  {
   "cell_type": "markdown",
   "id": "a122c9cd-f01a-4077-bb95-230747647db4",
   "metadata": {},
   "source": [
    "Question 4\n",
    "Write a function that calculates the factorial of a number recursively."
   ]
  },
  {
   "cell_type": "code",
   "execution_count": 4,
   "id": "31458040-1f66-40d8-a32e-9ca5db0c4578",
   "metadata": {},
   "outputs": [
    {
     "name": "stdout",
     "output_type": "stream",
     "text": [
      "720\n"
     ]
    }
   ],
   "source": [
    "def factorial(n):\n",
    "    if n == 1:\n",
    "        return 1\n",
    "    return n*factorial(n-1)\n",
    "\n",
    "\n",
    "print(factorial(6))"
   ]
  },
  {
   "cell_type": "markdown",
   "id": "9d4e3d03-cbda-40d8-aec8-509572c32817",
   "metadata": {},
   "source": [
    "Question 5\n",
    "Write a function that moves all elements of one type to the end of the list."
   ]
  },
  {
   "cell_type": "code",
   "execution_count": 5,
   "id": "cc62ba8c-9041-4498-bd2d-5e4bb7d54d16",
   "metadata": {},
   "outputs": [
    {
     "name": "stdout",
     "output_type": "stream",
     "text": [
      "['b', 'a', 'a', 'a']\n"
     ]
    }
   ],
   "source": [
    "def move_to_end(lst, num):\n",
    "    temp = []\n",
    "    while num in lst:\n",
    "        lst.remove(num)\n",
    "        temp.append(num)\n",
    "    lst.extend(temp)\n",
    "    return lst\n",
    "\n",
    "\n",
    "print(move_to_end([\"a\",\"a\",\"a\",\"b\"], \"a\"))"
   ]
  }
 ],
 "metadata": {
  "kernelspec": {
   "display_name": "Python 3 (ipykernel)",
   "language": "python",
   "name": "python3"
  },
  "language_info": {
   "codemirror_mode": {
    "name": "ipython",
    "version": 3
   },
   "file_extension": ".py",
   "mimetype": "text/x-python",
   "name": "python",
   "nbconvert_exporter": "python",
   "pygments_lexer": "ipython3",
   "version": "3.9.13"
  }
 },
 "nbformat": 4,
 "nbformat_minor": 5
}
