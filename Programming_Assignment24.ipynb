{
 "cells": [
  {
   "cell_type": "markdown",
   "id": "a0001cc0-1281-4e45-b7b7-61d69ff1ec11",
   "metadata": {},
   "source": [
    "Question1\n",
    "Create a function that takes an integer and returns a list from 1 to the given number, where:\n",
    "1. If the number can be divided evenly by 4, amplify it by 10 (i.e. return 10 times the\n",
    "number).\n",
    "2. If the number cannot be divided evenly by 4, simply return the number."
   ]
  },
  {
   "cell_type": "code",
   "execution_count": 1,
   "id": "393b7729-9147-456e-b7eb-380382b50862",
   "metadata": {},
   "outputs": [
    {
     "name": "stdout",
     "output_type": "stream",
     "text": [
      "[1, 2, 3, 40]\n"
     ]
    }
   ],
   "source": [
    "def amplify(N):\n",
    "    return [i*10 if i%4==0 else i for i in range(1,N+1)]\n",
    "\n",
    "print(amplify(4))"
   ]
  },
  {
   "cell_type": "markdown",
   "id": "6e4542c8-fd1f-4bfc-9e9e-73deb861e9bb",
   "metadata": {},
   "source": [
    "Question2\n",
    "Create a function that takes a list of numbers and return the number that's unique."
   ]
  },
  {
   "cell_type": "code",
   "execution_count": 2,
   "id": "88fd7a0f-4922-44a7-9833-2682343c62f0",
   "metadata": {},
   "outputs": [
    {
     "name": "stdout",
     "output_type": "stream",
     "text": [
      "7\n"
     ]
    }
   ],
   "source": [
    "def unique(lst):\n",
    "    for i in lst:\n",
    "        if lst.count(i)==1:\n",
    "            return i\n",
    "\n",
    "print(unique([3, 3, 3, 7, 3, 3]))"
   ]
  },
  {
   "cell_type": "markdown",
   "id": "d8ea1268-4bec-4d91-8d95-b507204d9fa8",
   "metadata": {},
   "source": [
    "Question3\n",
    "Your task is to create a Circle constructor that creates a circle with a radius provided by an\n",
    "argument. The circles constructed must have two getters getArea() (PIr^2) and\n",
    "getPerimeter() (2PI*r) which give both respective areas and perimeter (circumference)."
   ]
  },
  {
   "cell_type": "code",
   "execution_count": 5,
   "id": "67fe54d5-642f-4e6d-b352-4ea1e9ef4717",
   "metadata": {},
   "outputs": [
    {
     "name": "stdout",
     "output_type": "stream",
     "text": [
      "380.132711084365\n",
      "27.897342763877365\n"
     ]
    }
   ],
   "source": [
    "import math\n",
    "\n",
    "\n",
    "class Circle:\n",
    "    def __init__(self, r):\n",
    "        self.r = r\n",
    "\n",
    "    def getArea(self):\n",
    "        return math.pi*(self.r**2)\n",
    "\n",
    "    def getParameter(self):\n",
    "        return 2*math.pi*self.r\n",
    "\n",
    "\n",
    "circle1 = Circle(11)\n",
    "print(circle1.getArea())\n",
    "\n",
    "circle2 = Circle(4.44)\n",
    "print(circle2.getParameter())"
   ]
  },
  {
   "cell_type": "markdown",
   "id": "24f49955-7d8a-43d4-93af-a53c9b9d3f66",
   "metadata": {},
   "source": [
    "Question4\n",
    "Create a function that takes a list of strings and return a list, sorted from shortest to longest."
   ]
  },
  {
   "cell_type": "code",
   "execution_count": 4,
   "id": "59569f06-27fe-4616-86b6-cf197b885026",
   "metadata": {},
   "outputs": [
    {
     "name": "stdout",
     "output_type": "stream",
     "text": [
      "['Apple', 'Google', 'Microsoft']\n"
     ]
    }
   ],
   "source": [
    "def sort_by_length(lst):\n",
    "    dict = {}\n",
    "    for i in lst:\n",
    "        dict[len(i)] = i\n",
    "    length1 = [i for i in dict]\n",
    "    length1.sort()\n",
    "    return [dict[i] for i in length1]\n",
    "\n",
    "\n",
    "print(sort_by_length([\"Apple\",\"Google\",\"Microsoft\"]))"
   ]
  },
  {
   "cell_type": "markdown",
   "id": "09dc8996-30e3-4c76-88cc-71fc17d761d1",
   "metadata": {},
   "source": [
    "Question5\n",
    "Create a function that validates whether three given integers form a Pythagorean triplet. The\n",
    "sum of the squares of the two smallest integers must equal the square of the largest number to\n",
    "be validated."
   ]
  },
  {
   "cell_type": "code",
   "execution_count": 3,
   "id": "e02cd5c5-8384-4698-a60e-13851e846c39",
   "metadata": {},
   "outputs": [
    {
     "name": "stdout",
     "output_type": "stream",
     "text": [
      "True\n"
     ]
    }
   ],
   "source": [
    "def is_triplet(a,b,c):\n",
    "    if (a>b and a>c) and (a**2==b**2+c**2):\n",
    "        return True\n",
    "    elif (b>a and b>c) and (b**2==c**2+a**2):\n",
    "        return True\n",
    "    elif (c>a and c>b) and (c**2==b**2+a**2):\n",
    "        return True\n",
    "    else:\n",
    "        return False\n",
    "\n",
    "print(is_triplet(3, 4, 5))"
   ]
  }
 ],
 "metadata": {
  "kernelspec": {
   "display_name": "Python 3 (ipykernel)",
   "language": "python",
   "name": "python3"
  },
  "language_info": {
   "codemirror_mode": {
    "name": "ipython",
    "version": 3
   },
   "file_extension": ".py",
   "mimetype": "text/x-python",
   "name": "python",
   "nbconvert_exporter": "python",
   "pygments_lexer": "ipython3",
   "version": "3.9.13"
  }
 },
 "nbformat": 4,
 "nbformat_minor": 5
}
