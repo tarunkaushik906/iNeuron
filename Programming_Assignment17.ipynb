{
 "cells": [
  {
   "cell_type": "markdown",
   "id": "e38a8621-5593-437b-b629-899cfc857b87",
   "metadata": {},
   "source": [
    "Question1. Create a function that takes three arguments a, b, c and returns the sum of the\n",
    "numbers that are evenly divided by c from the range a, b inclusive."
   ]
  },
  {
   "cell_type": "code",
   "execution_count": 1,
   "id": "635d1a90-253b-4271-8517-c2294c6bf548",
   "metadata": {},
   "outputs": [
    {
     "name": "stdout",
     "output_type": "stream",
     "text": [
      "18\n"
     ]
    }
   ],
   "source": [
    "def evenly_divisible(a, b, c):\n",
    "    total = 0\n",
    "    for i in range(a,b+1):\n",
    "        if i%c==0:\n",
    "            total += i\n",
    "    return total\n",
    "\n",
    "\n",
    "print(evenly_divisible(1,10,3))                           "
   ]
  },
  {
   "cell_type": "markdown",
   "id": "a7790dcd-5c1a-4b48-b356-4662e70d54f2",
   "metadata": {},
   "source": [
    "Question2. Create a function that returns True if a given inequality expression is correct and\n",
    "False otherwise."
   ]
  },
  {
   "cell_type": "code",
   "execution_count": 5,
   "id": "023f6c00-9564-48b1-963e-26fd2e38cff8",
   "metadata": {},
   "outputs": [
    {
     "name": "stdout",
     "output_type": "stream",
     "text": [
      "True\n"
     ]
    }
   ],
   "source": [
    "def correct_signs(expression):\n",
    "    expression = expression.split()\n",
    "    for i in range(1, len(expression)-1, 2):\n",
    "        if expression[i] == \"<\" and not (int(expression[i-1]) < int(expression[i+1])):\n",
    "            return False\n",
    "        if expression[i] == \">\" and not (int(expression[i-1]) > int(expression[i+1])):\n",
    "            return False\n",
    "        \n",
    "    return True\n",
    "\n",
    "\n",
    "print(correct_signs(\"1 < 2 < 6 < 9 > 3\"))"
   ]
  },
  {
   "cell_type": "markdown",
   "id": "153cc96c-c55f-4e25-b838-fd2ac271bc31",
   "metadata": {},
   "source": [
    "Question3. Create a function that replaces all the vowels in a string with a specified character."
   ]
  },
  {
   "cell_type": "code",
   "execution_count": 2,
   "id": "7c65740c-8bd5-428c-9ef8-701d6f71ecc2",
   "metadata": {},
   "outputs": [
    {
     "name": "stdout",
     "output_type": "stream",
     "text": [
      "m?nn?? m??s?\n"
     ]
    }
   ],
   "source": [
    "def replace_vowels(sentence, symbol):\n",
    "    for i in sentence:\n",
    "        if i in \"aeiou\":\n",
    "            sentence = sentence.replace(i,symbol)\n",
    "    return sentence\n",
    "\n",
    "\n",
    "print(replace_vowels(\"minnie mouse\", \"?\"))"
   ]
  },
  {
   "cell_type": "markdown",
   "id": "1fa88ef0-1af7-4978-abe3-8f5ba3eb815c",
   "metadata": {},
   "source": [
    "Question4. Write a function that calculates the factorial of a number recursively."
   ]
  },
  {
   "cell_type": "code",
   "execution_count": 3,
   "id": "fa1aef24-0de8-4fa8-a89b-a9761365aff9",
   "metadata": {},
   "outputs": [
    {
     "name": "stdout",
     "output_type": "stream",
     "text": [
      "120\n"
     ]
    }
   ],
   "source": [
    "def factorial(n):\n",
    "    if n == 1:\n",
    "        return 1\n",
    "    return n*factorial(n-1)\n",
    "\n",
    "\n",
    "print(factorial(5))"
   ]
  },
  {
   "cell_type": "markdown",
   "id": "331e2195-81cf-427e-b941-9fc9887a6158",
   "metadata": {},
   "source": [
    "Question5. Hamming distance is the number of characters that differ between two strings."
   ]
  },
  {
   "cell_type": "code",
   "execution_count": 4,
   "id": "4c8619ac-720b-4cb5-a173-6baba7f6cf05",
   "metadata": {},
   "outputs": [
    {
     "name": "stdout",
     "output_type": "stream",
     "text": [
      "5\n"
     ]
    }
   ],
   "source": [
    "def hamming_distance(string1, string2):\n",
    "    result = [1 if x != y else 0 for x, y in zip(string1, string2)]\n",
    "    return sum(result)\n",
    "\n",
    "\n",
    "print(hamming_distance(\"abcde\", \"bcdef\"))"
   ]
  }
 ],
 "metadata": {
  "kernelspec": {
   "display_name": "Python 3 (ipykernel)",
   "language": "python",
   "name": "python3"
  },
  "language_info": {
   "codemirror_mode": {
    "name": "ipython",
    "version": 3
   },
   "file_extension": ".py",
   "mimetype": "text/x-python",
   "name": "python",
   "nbconvert_exporter": "python",
   "pygments_lexer": "ipython3",
   "version": "3.9.13"
  }
 },
 "nbformat": 4,
 "nbformat_minor": 5
}
