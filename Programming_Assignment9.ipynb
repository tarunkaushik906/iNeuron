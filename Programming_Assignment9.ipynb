{
 "cells": [
  {
   "cell_type": "markdown",
   "id": "d99c9967-dca7-40c6-ab21-ebab5f597942",
   "metadata": {},
   "source": [
    "1. Write a Python program to check if the given number is a Disarium Number?"
   ]
  },
  {
   "cell_type": "code",
   "execution_count": 1,
   "id": "066ab7cc-6d8a-4bac-acf5-91c932c3206d",
   "metadata": {},
   "outputs": [
    {
     "name": "stdin",
     "output_type": "stream",
     "text": [
      "Enter the number  135\n"
     ]
    },
    {
     "name": "stdout",
     "output_type": "stream",
     "text": [
      "number is disarium number\n"
     ]
    }
   ],
   "source": [
    "number = input(\"Enter the number \")\n",
    "total = 0\n",
    "\n",
    "temp = number\n",
    "for index,digit in enumerate(temp):\n",
    "    total += int(digit)**(index+1)\n",
    "\n",
    "if total == int(number):\n",
    "    print(\"number is disarium number\")\n",
    "else:\n",
    "    print(\"number is not disarium number\")"
   ]
  },
  {
   "cell_type": "markdown",
   "id": "9bb733c4-3f8a-4f26-8be1-dfc7a3a78508",
   "metadata": {},
   "source": [
    "2. Write a Python program to print all disarium numbers between 1 to 100?"
   ]
  },
  {
   "cell_type": "code",
   "execution_count": 2,
   "id": "986bc8f6-a523-4dad-bdc0-d24ff7eea3d2",
   "metadata": {},
   "outputs": [
    {
     "name": "stdout",
     "output_type": "stream",
     "text": [
      "1\n",
      "2\n",
      "3\n",
      "4\n",
      "5\n",
      "6\n",
      "7\n",
      "8\n",
      "9\n",
      "89\n"
     ]
    }
   ],
   "source": [
    "for i in range(1,101):\n",
    "    total = 0\n",
    "\n",
    "    temp = str(i)\n",
    "    for index,digit in enumerate(temp):\n",
    "        total += int(digit)**(index+1)\n",
    "\n",
    "    if total == i:\n",
    "        print(i)"
   ]
  },
  {
   "cell_type": "markdown",
   "id": "d18d7c0a-1678-4d3f-84b9-39352fc49363",
   "metadata": {},
   "source": [
    "3. Write a Python program to check if the given number is Happy Number?"
   ]
  },
  {
   "cell_type": "code",
   "execution_count": 3,
   "id": "f80b9e20-c6b9-4875-87b4-b417aa45e6f2",
   "metadata": {},
   "outputs": [
    {
     "name": "stdin",
     "output_type": "stream",
     "text": [
      "Enter the number  19\n"
     ]
    },
    {
     "name": "stdout",
     "output_type": "stream",
     "text": [
      "Number is happy number\n"
     ]
    }
   ],
   "source": [
    "number = int(input(\"Enter the number \"))\n",
    "\n",
    "appeared = set()\n",
    "\n",
    "while number not in appeared:\n",
    "    appeared.add(number)\n",
    "    number = sum([int(x) **2 for x in str(number)])\n",
    "\n",
    "if number==1:\n",
    "    print(\"Number is happy number\")\n",
    "else:\n",
    "    print(\"Number is not happy number\")"
   ]
  },
  {
   "cell_type": "markdown",
   "id": "893f9d52-0d42-4ca8-9e7e-46041dc1f090",
   "metadata": {},
   "source": [
    "4. Write a Python program to print all happy numbers between 1 and 100?"
   ]
  },
  {
   "cell_type": "code",
   "execution_count": 4,
   "id": "0146b836-cedf-43ba-8d0b-2fbe3fb2d825",
   "metadata": {},
   "outputs": [
    {
     "name": "stdout",
     "output_type": "stream",
     "text": [
      "1\n",
      "7\n",
      "10\n",
      "13\n",
      "19\n",
      "23\n",
      "28\n",
      "31\n",
      "32\n",
      "44\n",
      "49\n",
      "68\n",
      "70\n",
      "79\n",
      "82\n",
      "86\n",
      "91\n",
      "94\n",
      "97\n",
      "100\n"
     ]
    }
   ],
   "source": [
    "for i in range(1, 101):\n",
    "    number = i\n",
    "    appeared = set()\n",
    "\n",
    "    while number not in appeared:\n",
    "        appeared.add(number)\n",
    "        number = sum([int(x) ** 2 for x in str(number)])\n",
    "\n",
    "    if number == 1:\n",
    "        print(i)"
   ]
  },
  {
   "cell_type": "markdown",
   "id": "c15f05e3-d42e-4e0b-87ee-2d6df7afb415",
   "metadata": {},
   "source": [
    "5. Write a Python program to determine whether the given number is a Harshad Number?"
   ]
  },
  {
   "cell_type": "code",
   "execution_count": 5,
   "id": "720dea60-46f9-44dd-89e1-88b0e98a8d15",
   "metadata": {},
   "outputs": [
    {
     "name": "stdin",
     "output_type": "stream",
     "text": [
      "Enter number  24\n"
     ]
    },
    {
     "name": "stdout",
     "output_type": "stream",
     "text": [
      "Number is Harshad number\n"
     ]
    }
   ],
   "source": [
    "number = int(input(\"Enter number \"))\n",
    "\n",
    "total = 0\n",
    "n = number\n",
    "while n > 0:\n",
    "    total += n//10\n",
    "    n //= 10\n",
    "\n",
    "if number % total == 0:\n",
    "    print(\"Number is Harshad number\")\n",
    "else:\n",
    "    print(\"number is not Harshad number\")"
   ]
  },
  {
   "cell_type": "markdown",
   "id": "77ab7400-864f-4b14-ba11-a87b25e4f986",
   "metadata": {},
   "source": [
    "6. Write a Python program to print all pronic numbers between 1 and 100?"
   ]
  },
  {
   "cell_type": "code",
   "execution_count": 8,
   "id": "6b4552c8-f8da-4bc0-bcd2-4470e7b9c489",
   "metadata": {},
   "outputs": [
    {
     "name": "stdout",
     "output_type": "stream",
     "text": [
      "0\n",
      "2\n",
      "6\n",
      "12\n",
      "20\n",
      "30\n",
      "42\n",
      "56\n",
      "72\n",
      "90\n"
     ]
    }
   ],
   "source": [
    "for i in range(101):\n",
    "    j = 0\n",
    "    while j<int(i**0.5)+1:\n",
    "        if j*(j+1)==i:\n",
    "            print(i)\n",
    "        j += 1"
   ]
  }
 ],
 "metadata": {
  "kernelspec": {
   "display_name": "Python 3 (ipykernel)",
   "language": "python",
   "name": "python3"
  },
  "language_info": {
   "codemirror_mode": {
    "name": "ipython",
    "version": 3
   },
   "file_extension": ".py",
   "mimetype": "text/x-python",
   "name": "python",
   "nbconvert_exporter": "python",
   "pygments_lexer": "ipython3",
   "version": "3.9.13"
  }
 },
 "nbformat": 4,
 "nbformat_minor": 5
}
