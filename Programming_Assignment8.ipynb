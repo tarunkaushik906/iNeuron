{
 "cells": [
  {
   "cell_type": "markdown",
   "id": "184e0029-1f67-4135-8577-0048534412df",
   "metadata": {},
   "source": [
    "1. Write a Python Program to Add Two Matrices?"
   ]
  },
  {
   "cell_type": "code",
   "execution_count": 1,
   "id": "93d5f103-80f2-44d3-bca9-10bf944ae53d",
   "metadata": {},
   "outputs": [
    {
     "name": "stdin",
     "output_type": "stream",
     "text": [
      "Enter the number of rows  2\n",
      "Enter the number of columns  2\n"
     ]
    },
    {
     "name": "stdout",
     "output_type": "stream",
     "text": [
      "Enter first matrix\n"
     ]
    },
    {
     "name": "stdin",
     "output_type": "stream",
     "text": [
      " 5\n",
      " 6\n",
      " 7\n",
      " 8\n"
     ]
    },
    {
     "name": "stdout",
     "output_type": "stream",
     "text": [
      "Enter second matrix\n"
     ]
    },
    {
     "name": "stdin",
     "output_type": "stream",
     "text": [
      " 1\n",
      " 2\n",
      " 3\n",
      " 4\n"
     ]
    },
    {
     "name": "stdout",
     "output_type": "stream",
     "text": [
      "[[6, 8], [10, 12]]\n"
     ]
    }
   ],
   "source": [
    "row = int(input(\"Enter the number of rows \"))\n",
    "col = int(input(\"Enter the number of columns \"))\n",
    "\n",
    "print(\"Enter first matrix\")\n",
    "matrix1 = [[int(input()) for j in range(col)]for i in range(row)]\n",
    "\n",
    "print(\"Enter second matrix\")\n",
    "matrix2 = [[int(input()) for j in range(col)]for i in range(row)]\n",
    "\n",
    "result = [[matrix1[i][j]+matrix2[i][j] for j in range(col)] for i in range(row)]\n",
    "print(result)"
   ]
  },
  {
   "cell_type": "markdown",
   "id": "bec9a240-d018-4b68-b98c-997351a7dd67",
   "metadata": {},
   "source": [
    "2. Write a Python Program to Multiply Two Matrices?"
   ]
  },
  {
   "cell_type": "code",
   "execution_count": 2,
   "id": "65edbf67-93e7-4de1-8c08-f77e77fa262c",
   "metadata": {},
   "outputs": [
    {
     "name": "stdin",
     "output_type": "stream",
     "text": [
      "Enter the number of rows for matrix1  2\n",
      "Enter the number of columns for matrix1  2\n"
     ]
    },
    {
     "name": "stdout",
     "output_type": "stream",
     "text": [
      "Enter first matrix\n"
     ]
    },
    {
     "name": "stdin",
     "output_type": "stream",
     "text": [
      " 1\n",
      " 2\n",
      " 1\n",
      " 3\n",
      "Enter the number of columns for matrix2  3\n"
     ]
    },
    {
     "name": "stdout",
     "output_type": "stream",
     "text": [
      "Enter second matrix\n"
     ]
    },
    {
     "name": "stdin",
     "output_type": "stream",
     "text": [
      " 2\n",
      " 2\n",
      " 2\n",
      " 2\n",
      " 2\n",
      " 2\n"
     ]
    },
    {
     "name": "stdout",
     "output_type": "stream",
     "text": [
      "[[6, 6, 6], [8, 8, 8]]\n"
     ]
    }
   ],
   "source": [
    "row = int(input(\"Enter the number of rows for matrix1 \"))\n",
    "col = int(input(\"Enter the number of columns for matrix1 \"))\n",
    "\n",
    "print(\"Enter first matrix\")\n",
    "matrix1 = [[int(input()) for j in range(col)]for i in range(row)]\n",
    "\n",
    "row = col\n",
    "col = int(input(\"Enter the number of columns for matrix2 \"))\n",
    "\n",
    "print(\"Enter second matrix\")\n",
    "matrix2 = [[int(input()) for j in range(col)]for i in range(row)]\n",
    "\n",
    "result = [[0 for j in range(len(matrix2[0]))] for i in range(len(matrix2))]\n",
    "\n",
    "for i in range(len(matrix1)):\n",
    "    for j in range(len(matrix2[0])):\n",
    "        for k in range(len(matrix2)):\n",
    "            result[i][j] += matrix1[i][k] * matrix2[k][j]\n",
    "\n",
    "print(result)\n"
   ]
  },
  {
   "cell_type": "markdown",
   "id": "292876b2-bae9-4fc1-bdf3-8c5fae261356",
   "metadata": {},
   "source": [
    "3. Write a Python Program to Transpose a Matrix?"
   ]
  },
  {
   "cell_type": "code",
   "execution_count": 6,
   "id": "1807fdf2-de81-416c-9942-c27e7bbc6618",
   "metadata": {},
   "outputs": [
    {
     "name": "stdin",
     "output_type": "stream",
     "text": [
      "Enter the number of rows for matrix1  2\n",
      "Enter the number of columns for matrix1  3\n"
     ]
    },
    {
     "name": "stdout",
     "output_type": "stream",
     "text": [
      "Enter first matrix\n"
     ]
    },
    {
     "name": "stdin",
     "output_type": "stream",
     "text": [
      " -2\n",
      " 5\n",
      " 6\n",
      " 5\n",
      " 2\n",
      " 7\n"
     ]
    },
    {
     "name": "stdout",
     "output_type": "stream",
     "text": [
      "[[-2, 5], [5, 2], [6, 7]]\n"
     ]
    }
   ],
   "source": [
    "row = int(input(\"Enter the number of rows for matrix1 \"))\n",
    "col = int(input(\"Enter the number of columns for matrix1 \"))\n",
    "\n",
    "print(\"Enter first matrix\")\n",
    "matrix1 = [[int(input()) for j in range(col)]for i in range(row)]\n",
    "\n",
    "result = [[matrix1[j][i] for j in range(len(matrix1))] for i in range(len(matrix1[0]))]\n",
    "print(result)\n"
   ]
  },
  {
   "cell_type": "markdown",
   "id": "c461bd3f-bc75-4fa3-a00d-63a9e229df2d",
   "metadata": {},
   "source": [
    "4. Write a Python Program to Sort Words in Alphabetic Order?"
   ]
  },
  {
   "cell_type": "code",
   "execution_count": 8,
   "id": "890d17ee-254a-47d4-90cc-74f365f0b60d",
   "metadata": {},
   "outputs": [
    {
     "name": "stdin",
     "output_type": "stream",
     "text": [
      "Enter words separated by space  ram sita laxman rama\n"
     ]
    },
    {
     "name": "stdout",
     "output_type": "stream",
     "text": [
      "laxman ram rama sita\n"
     ]
    }
   ],
   "source": [
    "words = input(\"Enter words separated by space \").split()\n",
    "words.sort()\n",
    "result = \" \".join(words)\n",
    "print(result)"
   ]
  },
  {
   "cell_type": "markdown",
   "id": "e5e2cb3c-40b3-4033-8731-e96290804870",
   "metadata": {},
   "source": [
    "5. Write a Python Program to Remove Punctuation From a String?"
   ]
  },
  {
   "cell_type": "code",
   "execution_count": 9,
   "id": "7acc61b6-bd2e-4d25-9943-48270292b640",
   "metadata": {},
   "outputs": [
    {
     "name": "stdin",
     "output_type": "stream",
     "text": [
      "Enter string  fsa)asdf[sdfd!sdf@kvlvn]\n"
     ]
    },
    {
     "name": "stdout",
     "output_type": "stream",
     "text": [
      "fsaasdfsdfdsdfkvlvn\n"
     ]
    }
   ],
   "source": [
    "word = input(\"Enter string \")\n",
    "punc = '''!\"#$%&'()*+, -./:;<=>?@[\\]^_`{|}~'''\n",
    "result = \"\"\n",
    "for i in word:\n",
    "    if i not in punc:\n",
    "        result += i\n",
    "print(result)"
   ]
  }
 ],
 "metadata": {
  "kernelspec": {
   "display_name": "Python 3 (ipykernel)",
   "language": "python",
   "name": "python3"
  },
  "language_info": {
   "codemirror_mode": {
    "name": "ipython",
    "version": 3
   },
   "file_extension": ".py",
   "mimetype": "text/x-python",
   "name": "python",
   "nbconvert_exporter": "python",
   "pygments_lexer": "ipython3",
   "version": "3.9.13"
  }
 },
 "nbformat": 4,
 "nbformat_minor": 5
}
