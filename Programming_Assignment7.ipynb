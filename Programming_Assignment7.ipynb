{
 "cells": [
  {
   "cell_type": "markdown",
   "id": "a80daa4a-9bb5-4732-9bf0-b1a3e0c22b81",
   "metadata": {},
   "source": [
    "1. Write a Python Program to find sum of array?"
   ]
  },
  {
   "cell_type": "code",
   "execution_count": 1,
   "id": "1973c02e-436f-4716-bcca-18af9da17f59",
   "metadata": {},
   "outputs": [
    {
     "name": "stdin",
     "output_type": "stream",
     "text": [
      "Enter the elements separated by space 4 5 6 2 8 3\n"
     ]
    },
    {
     "name": "stdout",
     "output_type": "stream",
     "text": [
      "28\n"
     ]
    }
   ],
   "source": [
    "lst = list(map(int,input(\"Enter the elements separated by space\").split()))\n",
    "print(sum(lst))"
   ]
  },
  {
   "cell_type": "markdown",
   "id": "37519f85-ad8e-4ecb-902b-29488f0beeef",
   "metadata": {},
   "source": [
    "2. Write a Python Program to find largest element in an array?"
   ]
  },
  {
   "cell_type": "code",
   "execution_count": 2,
   "id": "1fe1e280-9e03-45dd-aafd-7fca68aad097",
   "metadata": {},
   "outputs": [
    {
     "name": "stdin",
     "output_type": "stream",
     "text": [
      "Enter the elements separated by space 4 5 8 9 1 15\n"
     ]
    },
    {
     "name": "stdout",
     "output_type": "stream",
     "text": [
      "15\n"
     ]
    }
   ],
   "source": [
    "lst = list(map(int,input(\"Enter the elements separated by space\").split()))\n",
    "print(max(lst))"
   ]
  },
  {
   "cell_type": "markdown",
   "id": "898014f5-7c2b-4210-9f61-fa6aefb93237",
   "metadata": {},
   "source": [
    "3. Write a Python Program for array rotation?"
   ]
  },
  {
   "cell_type": "code",
   "execution_count": 15,
   "id": "44fd9f10-94ce-4270-9dd6-703406b6f386",
   "metadata": {},
   "outputs": [
    {
     "name": "stdin",
     "output_type": "stream",
     "text": [
      "Enter the elements separated by space 4 5 6 8\n",
      "Enter the number of rotations  2\n"
     ]
    },
    {
     "name": "stdout",
     "output_type": "stream",
     "text": [
      "[6, 8, 4, 5]\n"
     ]
    }
   ],
   "source": [
    "lst = list(map(int,input(\"Enter the elements separated by space\").split()))\n",
    "n = int(input(\"Enter the number of rotations \"))\n",
    "print(lst[len(lst)-n:]+lst[:len(lst)-n])"
   ]
  },
  {
   "cell_type": "markdown",
   "id": "7b378d13-fbef-4022-9940-fa3897215881",
   "metadata": {},
   "source": [
    "4. Write a Python Program to Split the array and add the first part to the end?"
   ]
  },
  {
   "cell_type": "code",
   "execution_count": 5,
   "id": "6377f721-f5be-4e72-bb67-0c2910d0f9c6",
   "metadata": {},
   "outputs": [
    {
     "name": "stdin",
     "output_type": "stream",
     "text": [
      "Enter the elements separated by space 4 5 6 8\n"
     ]
    },
    {
     "name": "stdout",
     "output_type": "stream",
     "text": [
      "[6, 8, 4, 5]\n"
     ]
    }
   ],
   "source": [
    "lst = list(map(int,input(\"Enter the elements separated by space\").split()))\n",
    "if len(lst)%2==0:\n",
    "    mid = len(lst)//2\n",
    "else:\n",
    "    mid = len(lst)//2+1\n",
    "print(lst[mid:]+lst[:mid])"
   ]
  },
  {
   "cell_type": "markdown",
   "id": "2d168cab-5261-40cc-a628-14aa21c823d1",
   "metadata": {},
   "source": [
    "5. Write a Python Program to check if given array is Monotonic?"
   ]
  },
  {
   "cell_type": "code",
   "execution_count": 9,
   "id": "b200a09a-a67f-4357-8158-fdca111ac572",
   "metadata": {},
   "outputs": [
    {
     "name": "stdin",
     "output_type": "stream",
     "text": [
      "Enter the elements separated by space 1 3 4 5 5 8 9\n"
     ]
    },
    {
     "name": "stdout",
     "output_type": "stream",
     "text": [
      "Array is monotonic\n"
     ]
    }
   ],
   "source": [
    "lst = list(map(int,input(\"Enter the elements separated by space\").split()))\n",
    "lst1 = []\n",
    "lst1.extend(lst)\n",
    "lst1.sort()\n",
    "lst2 = []\n",
    "lst2.extend(lst)\n",
    "lst2.sort(reverse=True)\n",
    "\n",
    "if lst1==lst or lst2==lst:\n",
    "    print(\"Array is monotonic\")\n",
    "else:\n",
    "    print(\"Array is not monotonic\")"
   ]
  }
 ],
 "metadata": {
  "kernelspec": {
   "display_name": "Python 3 (ipykernel)",
   "language": "python",
   "name": "python3"
  },
  "language_info": {
   "codemirror_mode": {
    "name": "ipython",
    "version": 3
   },
   "file_extension": ".py",
   "mimetype": "text/x-python",
   "name": "python",
   "nbconvert_exporter": "python",
   "pygments_lexer": "ipython3",
   "version": "3.9.13"
  }
 },
 "nbformat": 4,
 "nbformat_minor": 5
}
