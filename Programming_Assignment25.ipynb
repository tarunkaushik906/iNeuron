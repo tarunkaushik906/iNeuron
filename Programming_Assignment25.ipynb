{
 "cells": [
  {
   "cell_type": "markdown",
   "id": "8980adb1-b511-4b68-b4bb-43844dd0f8d7",
   "metadata": {},
   "source": [
    "Question1\n",
    "Create a function that takes three integer arguments (a, b, c) and returns the amount of\n",
    "integers which are of equal value."
   ]
  },
  {
   "cell_type": "code",
   "execution_count": 1,
   "id": "97247ceb-4fa5-4a8b-a1f4-65acd76e6f8b",
   "metadata": {},
   "outputs": [
    {
     "name": "stdout",
     "output_type": "stream",
     "text": [
      "2\n"
     ]
    }
   ],
   "source": [
    "def equal(a,b,c):\n",
    "    if a==b==c:\n",
    "        return 3\n",
    "    elif a==b or b==c or a==c:\n",
    "        return 2\n",
    "    else:\n",
    "        return 0\n",
    "\n",
    "print(equal(3, 4, 3))"
   ]
  },
  {
   "cell_type": "markdown",
   "id": "87817810-922b-42dc-8c85-18ac0b10f5b2",
   "metadata": {},
   "source": [
    "Question2\n",
    "Write a function that converts a dictionary into a list of keys-values tuples."
   ]
  },
  {
   "cell_type": "code",
   "execution_count": 2,
   "id": "b9d79046-d96c-4558-a22b-56ea8639d329",
   "metadata": {},
   "outputs": [
    {
     "name": "stdout",
     "output_type": "stream",
     "text": [
      "[('B', 2), ('C', 3), ('D', 1)]\n"
     ]
    }
   ],
   "source": [
    "def dict_to_list(dict):\n",
    "    keys = sorted([key for key in dict.keys()])\n",
    "    return [(key,dict[key]) for key in keys]\n",
    "\n",
    "print(dict_to_list({\"D\":1, \"B\":2, \"C\":3}))"
   ]
  },
  {
   "cell_type": "markdown",
   "id": "904f3a2a-c939-43e8-bd4b-2cc2e15a94b8",
   "metadata": {},
   "source": [
    "Question3\n",
    "Write a function that creates a dictionary with each (key, value) pair being the (lower case,\n",
    "upper case) versions of a letter, respectively."
   ]
  },
  {
   "cell_type": "code",
   "execution_count": 3,
   "id": "0d7c0d0b-49b5-4291-af0a-57c1e45682a8",
   "metadata": {},
   "outputs": [
    {
     "name": "stdout",
     "output_type": "stream",
     "text": [
      "{'p': 'P', 's': 'S'}\n"
     ]
    }
   ],
   "source": [
    "def mapping(lst):\n",
    "    dict ={}\n",
    "    for i in lst:\n",
    "        dict[i] = i.upper()\n",
    "    return dict\n",
    "\n",
    "print(mapping([\"p\",\"s\"]))"
   ]
  },
  {
   "cell_type": "markdown",
   "id": "fdf0f539-0673-4a33-8507-3f740c4c292c",
   "metadata": {},
   "source": [
    "Question4\n",
    "Write a function, that replaces all vowels in a string with a specified vowel."
   ]
  },
  {
   "cell_type": "code",
   "execution_count": 4,
   "id": "8f9bc3b4-db35-41c4-b2d9-5893047c36d4",
   "metadata": {},
   "outputs": [
    {
     "name": "stdout",
     "output_type": "stream",
     "text": [
      "chooso cossorolo\n"
     ]
    }
   ],
   "source": [
    "def vow_replace(word, vow):\n",
    "    for i in word:\n",
    "        if i in \"aeioud\":\n",
    "            word = word.replace(i,vow)\n",
    "    return word\n",
    "\n",
    "\n",
    "print(vow_replace(\"cheese casserole\", \"o\"))"
   ]
  },
  {
   "cell_type": "markdown",
   "id": "2653a708-0e05-485f-ad39-aef1fcd75a10",
   "metadata": {},
   "source": [
    "Question5\n",
    "Create a function that takes a string as input and capitalizes a letter if its ASCII code is even\n",
    "and returns its lower case version if its ASCII code is odd."
   ]
  },
  {
   "cell_type": "code",
   "execution_count": 5,
   "id": "88e4f2d8-798a-4a08-a1d7-b6564d2152ca",
   "metadata": {},
   "outputs": [
    {
     "name": "stdout",
     "output_type": "stream",
     "text": [
      "THe LiTTLe meRmaiD\n"
     ]
    }
   ],
   "source": [
    "def ascii_capitalize(sentence):\n",
    "    result = \"\"\n",
    "    for i in sentence:\n",
    "        if ord(i)%2==0:\n",
    "            result += i.upper()\n",
    "        else:\n",
    "            result += i.lower()\n",
    "    return result\n",
    "\n",
    "print(ascii_capitalize(\"THE LITTLE MERMAID\"))"
   ]
  }
 ],
 "metadata": {
  "kernelspec": {
   "display_name": "Python 3 (ipykernel)",
   "language": "python",
   "name": "python3"
  },
  "language_info": {
   "codemirror_mode": {
    "name": "ipython",
    "version": 3
   },
   "file_extension": ".py",
   "mimetype": "text/x-python",
   "name": "python",
   "nbconvert_exporter": "python",
   "pygments_lexer": "ipython3",
   "version": "3.9.13"
  }
 },
 "nbformat": 4,
 "nbformat_minor": 5
}
