{
 "cells": [
  {
   "cell_type": "markdown",
   "id": "5a834362-2b75-4c39-b690-5ae424533833",
   "metadata": {},
   "source": [
    "1. Write a Python program to find sum of elements in list?"
   ]
  },
  {
   "cell_type": "code",
   "execution_count": 1,
   "id": "2b939631-f2a8-4399-ae1a-3229d9f718c9",
   "metadata": {},
   "outputs": [
    {
     "name": "stdin",
     "output_type": "stream",
     "text": [
      "Enter the elements separated by space  4 5 6 8 9 12 14\n"
     ]
    },
    {
     "name": "stdout",
     "output_type": "stream",
     "text": [
      "58\n"
     ]
    }
   ],
   "source": [
    "lst = list(map(int, input(\"Enter the elements separated by space \").split()))\n",
    "print(sum(lst))"
   ]
  },
  {
   "cell_type": "markdown",
   "id": "34e031f8-72bb-4d64-9647-60196b78588e",
   "metadata": {},
   "source": [
    "2. Write a Python program to Multiply all numbers in the list?"
   ]
  },
  {
   "cell_type": "code",
   "execution_count": 2,
   "id": "d7ab4f8b-6ac4-40e3-927b-13c6d1594727",
   "metadata": {},
   "outputs": [
    {
     "name": "stdin",
     "output_type": "stream",
     "text": [
      "Enter the elements separated by space  1 2 3 4 5\n"
     ]
    },
    {
     "name": "stdout",
     "output_type": "stream",
     "text": [
      "120\n"
     ]
    }
   ],
   "source": [
    "lst = list(map(int, input(\"Enter the elements separated by space \").split()))\n",
    "try:\n",
    "    product = lst[0]\n",
    "    for i in range(1, len(lst)):\n",
    "        product *= lst[i]\n",
    "    print(product)\n",
    "except:\n",
    "    print(\"Invalid input\")"
   ]
  },
  {
   "cell_type": "markdown",
   "id": "0cba1689-acd0-49f9-8f91-ec2826565391",
   "metadata": {},
   "source": [
    "3. Write a Python program to find smallest number in a list?"
   ]
  },
  {
   "cell_type": "code",
   "execution_count": 3,
   "id": "e77206d1-a052-4278-8250-db1758d6d7a5",
   "metadata": {},
   "outputs": [
    {
     "name": "stdin",
     "output_type": "stream",
     "text": [
      "Enter the elements separated by space  1 5 8 9 12\n"
     ]
    },
    {
     "name": "stdout",
     "output_type": "stream",
     "text": [
      "1\n"
     ]
    }
   ],
   "source": [
    "lst = list(map(int, input(\"Enter the elements separated by space \").split()))\n",
    "print(min(lst))"
   ]
  },
  {
   "cell_type": "markdown",
   "id": "df9785d8-7b52-44e4-b2b4-ff6489a9c503",
   "metadata": {},
   "source": [
    "4. Write a Python program to find largest number in a list?"
   ]
  },
  {
   "cell_type": "code",
   "execution_count": 4,
   "id": "a4c503e2-eae9-4ae3-82c3-f0d15161eb24",
   "metadata": {},
   "outputs": [
    {
     "name": "stdin",
     "output_type": "stream",
     "text": [
      "Enter the elements separated by space  1 5 8 9 12\n"
     ]
    },
    {
     "name": "stdout",
     "output_type": "stream",
     "text": [
      "12\n"
     ]
    }
   ],
   "source": [
    "lst = list(map(int, input(\"Enter the elements separated by space \").split()))\n",
    "print(max(lst))"
   ]
  },
  {
   "cell_type": "markdown",
   "id": "71bab5d2-b2e2-4f72-8bdf-1a207c37dee1",
   "metadata": {},
   "source": [
    "5. Write a Python program to find second largest number in a list?"
   ]
  },
  {
   "cell_type": "code",
   "execution_count": 5,
   "id": "4cbfc89c-fe13-4231-999b-8577c3d7df0f",
   "metadata": {},
   "outputs": [
    {
     "name": "stdin",
     "output_type": "stream",
     "text": [
      "Enter the elements separated by space  1 5 3 7 8 6 9 9 12\n"
     ]
    },
    {
     "name": "stdout",
     "output_type": "stream",
     "text": [
      "9\n"
     ]
    }
   ],
   "source": [
    "lst = list(map(int, input(\"Enter the elements separated by space \").split()))\n",
    "if min(lst) == max(lst):\n",
    "    print(\"Second largest element doesnt exists\")\n",
    "else:\n",
    "    lst.sort()\n",
    "    for i in range(-2, -len(lst) - 1, -1):\n",
    "        if lst[i] < lst[i + 1]:\n",
    "            print(lst[i])\n",
    "            break"
   ]
  },
  {
   "cell_type": "markdown",
   "id": "0e054356-45e8-4536-9549-994ae672693d",
   "metadata": {},
   "source": [
    "6. Write a Python program to find N largest elements from a list?"
   ]
  },
  {
   "cell_type": "code",
   "execution_count": 16,
   "id": "5000873e-fda1-42ec-958c-cf2fc4ba04d4",
   "metadata": {},
   "outputs": [
    {
     "name": "stdin",
     "output_type": "stream",
     "text": [
      "Enter the elements separated by space  5 3 1 2 8 9 9 4 6\n",
      "Enter the value of n  2\n"
     ]
    },
    {
     "name": "stdout",
     "output_type": "stream",
     "text": [
      "[9, 8]\n"
     ]
    }
   ],
   "source": [
    "lst = list(map(int, input(\"Enter the elements separated by space \").split()))\n",
    "n = int(input(\"Enter the value of n \"))\n",
    "lst = list(set(lst))\n",
    "lst.sort(reverse=True)\n",
    "print(lst[:n])"
   ]
  },
  {
   "cell_type": "markdown",
   "id": "2758e5ec-021b-4c5b-a79c-8422078dda77",
   "metadata": {},
   "source": [
    "7. Write a Python program to print even numbers in a list?"
   ]
  },
  {
   "cell_type": "code",
   "execution_count": 6,
   "id": "25dbdd2c-db25-4263-932a-d8d3f7161767",
   "metadata": {},
   "outputs": [
    {
     "name": "stdin",
     "output_type": "stream",
     "text": [
      "Enter the elements separated by space  1 2 5 4 8 6 9 12\n"
     ]
    },
    {
     "name": "stdout",
     "output_type": "stream",
     "text": [
      "2\n",
      "4\n",
      "8\n",
      "6\n",
      "12\n"
     ]
    }
   ],
   "source": [
    "lst = list(map(int, input(\"Enter the elements separated by space \").split()))\n",
    "for i in lst:\n",
    "    if i%2==0:\n",
    "        print(i)"
   ]
  },
  {
   "cell_type": "markdown",
   "id": "b89b2c80-eff1-4e8f-9cfe-68b155dbc6db",
   "metadata": {},
   "source": [
    "8. Write a Python program to print odd numbers in a List?"
   ]
  },
  {
   "cell_type": "code",
   "execution_count": 7,
   "id": "020117df-f31f-4db8-9c38-a2e999c883e6",
   "metadata": {},
   "outputs": [
    {
     "name": "stdin",
     "output_type": "stream",
     "text": [
      "Enter the elements separated by space  1 2 5 4 8 6 9 12\n"
     ]
    },
    {
     "name": "stdout",
     "output_type": "stream",
     "text": [
      "1\n",
      "5\n",
      "9\n"
     ]
    }
   ],
   "source": [
    "lst = list(map(int, input(\"Enter the elements separated by space \").split()))\n",
    "for i in lst:\n",
    "    if i%2!=0:\n",
    "        print(i)"
   ]
  },
  {
   "cell_type": "markdown",
   "id": "892b3009-d976-4a03-a10a-476fa6a34182",
   "metadata": {},
   "source": [
    "9. Write a Python program to Remove empty List from List?"
   ]
  },
  {
   "cell_type": "code",
   "execution_count": 8,
   "id": "91b77e75-b025-46c4-9492-607b2df73297",
   "metadata": {},
   "outputs": [
    {
     "name": "stdout",
     "output_type": "stream",
     "text": [
      "[[1, 2, 3], [3, 4, 5, 6], [7, 8, 9]]\n"
     ]
    }
   ],
   "source": [
    "lst = [[1,2,3],[],[],[3,4,5,6],[7,8,9],[]]\n",
    "\n",
    "while [] in lst:\n",
    "    lst.remove([])\n",
    "print(lst)"
   ]
  },
  {
   "cell_type": "markdown",
   "id": "94286f62-5262-4a2e-aa0a-056aaa3163a9",
   "metadata": {},
   "source": [
    "10. Write a Python program to Cloning or Copying a list?"
   ]
  },
  {
   "cell_type": "code",
   "execution_count": 10,
   "id": "8a19e664-f9d1-46db-af15-aabc017f4b5f",
   "metadata": {},
   "outputs": [
    {
     "name": "stdin",
     "output_type": "stream",
     "text": [
      "Enter the elements separated by space  1 2 3 8 6 4\n"
     ]
    },
    {
     "name": "stdout",
     "output_type": "stream",
     "text": [
      "lst2 =  [1, 2, 3, 8, 6, 4]\n",
      "lst3 =  [1, 2, 3, 8, 6, 4]\n"
     ]
    }
   ],
   "source": [
    "import copy\n",
    "lst = list(map(int, input(\"Enter the elements separated by space \").split()))\n",
    "#First method\n",
    "lst2 = lst\n",
    "print(\"lst2 = \",lst2)\n",
    "#second method\n",
    "lst3 = copy.copy(lst)\n",
    "print(\"lst3 = \", lst3)"
   ]
  },
  {
   "cell_type": "markdown",
   "id": "5719de53-5566-4715-86b4-28c30ed1ab60",
   "metadata": {},
   "source": [
    "11. Write a Python program to Count occurrences of an element in a list?"
   ]
  },
  {
   "cell_type": "code",
   "execution_count": 11,
   "id": "512a77d4-228a-4090-b06e-f53ccaf181fd",
   "metadata": {},
   "outputs": [
    {
     "name": "stdin",
     "output_type": "stream",
     "text": [
      "Enter the elements separated by space  4 2 8 6 7 3 6 9\n",
      "Enter the number to be found  6\n"
     ]
    },
    {
     "name": "stdout",
     "output_type": "stream",
     "text": [
      "2\n"
     ]
    }
   ],
   "source": [
    "lst = list(map(int, input(\"Enter the elements separated by space \").split()))\n",
    "n = int(input(\"Enter the number to be found \"))\n",
    "print(lst.count(n))"
   ]
  }
 ],
 "metadata": {
  "kernelspec": {
   "display_name": "Python 3 (ipykernel)",
   "language": "python",
   "name": "python3"
  },
  "language_info": {
   "codemirror_mode": {
    "name": "ipython",
    "version": 3
   },
   "file_extension": ".py",
   "mimetype": "text/x-python",
   "name": "python",
   "nbconvert_exporter": "python",
   "pygments_lexer": "ipython3",
   "version": "3.9.13"
  }
 },
 "nbformat": 4,
 "nbformat_minor": 5
}
