{
 "cells": [
  {
   "cell_type": "markdown",
   "id": "04d79bb7-fa2f-470d-aca1-c8dc25642ee0",
   "metadata": {},
   "source": [
    "1. Write a Python Program to Find LCM?"
   ]
  },
  {
   "cell_type": "code",
   "execution_count": 3,
   "id": "cbc1282b-ab80-406a-97eb-554cf7002c2b",
   "metadata": {},
   "outputs": [
    {
     "name": "stdin",
     "output_type": "stream",
     "text": [
      "Enter first number  8\n",
      "Enter second numebr  16\n"
     ]
    },
    {
     "name": "stdout",
     "output_type": "stream",
     "text": [
      "16.0\n"
     ]
    }
   ],
   "source": [
    "A = int(input(\"Enter first number \"))\n",
    "B = int(input(\"Enter second numebr \"))\n",
    "low = min(A, B)\n",
    "for i in range(low, 0, -1):\n",
    "    if A % i == 0 and B % i == 0:\n",
    "        HCF = i\n",
    "        break\n",
    "LCM = A*B//HCF\n",
    "print(LCM)"
   ]
  },
  {
   "cell_type": "markdown",
   "id": "93109de7-1b13-49cc-a761-de41d8694a5f",
   "metadata": {},
   "source": [
    "2. Write a Python Program to Find HCF?"
   ]
  },
  {
   "cell_type": "code",
   "execution_count": 2,
   "id": "f7f49030-af9f-45bf-a4e4-8e293d6adefb",
   "metadata": {},
   "outputs": [
    {
     "name": "stdin",
     "output_type": "stream",
     "text": [
      "Enter first number  6\n",
      "Enter second numebr  12\n"
     ]
    },
    {
     "name": "stdout",
     "output_type": "stream",
     "text": [
      "6\n"
     ]
    }
   ],
   "source": [
    "A = int(input(\"Enter first number \"))\n",
    "B = int(input(\"Enter second numebr \"))\n",
    "low = min(A, B)\n",
    "for i in range(low, 0, -1):\n",
    "    if A % i == 0 and B % i == 0:\n",
    "        print(i)\n",
    "        break"
   ]
  },
  {
   "cell_type": "markdown",
   "id": "d999b260-92fe-4d57-af40-a3b4a8b0f004",
   "metadata": {},
   "source": [
    "3. Write a Python Program to Convert Decimal to Binary, Octal and Hexadecimal?"
   ]
  },
  {
   "cell_type": "code",
   "execution_count": 5,
   "id": "e1094882-5ada-46ff-8da5-344bda2cd743",
   "metadata": {},
   "outputs": [
    {
     "name": "stdin",
     "output_type": "stream",
     "text": [
      "Enter the decimal number  64\n"
     ]
    },
    {
     "name": "stdout",
     "output_type": "stream",
     "text": [
      "Binary =  1000000\n",
      "Octal =  100\n",
      "Hexadecimal =  40\n"
     ]
    }
   ],
   "source": [
    "main_number = int(input(\"Enter the decimal number \"))\n",
    "\n",
    "number = main_number\n",
    "binary = \"\"\n",
    "while number > 0:\n",
    "    binary = str(number % 2) + binary\n",
    "    number //= 2\n",
    "print(\"Binary = \", binary)\n",
    "\n",
    "number = main_number\n",
    "octal = \"\"\n",
    "while number > 0:\n",
    "    octal = str(number % 8) + octal\n",
    "    number //= 8\n",
    "print(\"Octal = \", octal)\n",
    "\n",
    "number = main_number\n",
    "hexa = \"\"\n",
    "while number > 0:\n",
    "    hexa = str(number % 16) + hexa\n",
    "    number //= 16\n",
    "print(\"Hexadecimal = \", hexa)"
   ]
  },
  {
   "cell_type": "markdown",
   "id": "112ce674-fb7b-493f-9383-e5091207f14c",
   "metadata": {},
   "source": [
    "4. Write a Python Program To Find ASCII value of a character?"
   ]
  },
  {
   "cell_type": "code",
   "execution_count": 4,
   "id": "f250b417-6b37-4737-a290-fe070c47dffa",
   "metadata": {},
   "outputs": [
    {
     "name": "stdin",
     "output_type": "stream",
     "text": [
      "Enter character  k\n"
     ]
    },
    {
     "name": "stdout",
     "output_type": "stream",
     "text": [
      "107\n"
     ]
    }
   ],
   "source": [
    "char = input(\"Enter character \")\n",
    "print(ord(char))"
   ]
  },
  {
   "cell_type": "markdown",
   "id": "98aa989f-b6a5-44fd-b633-88bebc9195be",
   "metadata": {},
   "source": [
    "5. Write a Python Program to Make a Simple Calculator with 4 basic mathematical operations?"
   ]
  },
  {
   "cell_type": "code",
   "execution_count": 6,
   "id": "31e9bce8-6f5a-45e4-9c17-37b04294b7c0",
   "metadata": {},
   "outputs": [
    {
     "name": "stdout",
     "output_type": "stream",
     "text": [
      "1. Addition\n",
      "2. Subtraction\n",
      "3. Multiplication\n",
      "4. Division\n",
      "Press any other key to exit \n"
     ]
    },
    {
     "name": "stdin",
     "output_type": "stream",
     "text": [
      " 4\n",
      "Enter the first number  8\n",
      "Enter the second number  2\n"
     ]
    },
    {
     "name": "stdout",
     "output_type": "stream",
     "text": [
      "4.0\n",
      "1. Addition\n",
      "2. Subtraction\n",
      "3. Multiplication\n",
      "4. Division\n",
      "Press any other key to exit \n"
     ]
    },
    {
     "name": "stdin",
     "output_type": "stream",
     "text": [
      " 5\n"
     ]
    }
   ],
   "source": [
    "while True:\n",
    "    print(\"1. Addition\")\n",
    "    print(\"2. Subtraction\")\n",
    "    print(\"3. Multiplication\")\n",
    "    print(\"4. Division\")\n",
    "    print(\"Press any other key to exit \")\n",
    "\n",
    "    choice = int(input())\n",
    "\n",
    "    if choice == 1:\n",
    "        number1 = int(input(\"Enter the first number \"))\n",
    "        number2 = int(input(\"Enter the second number \"))\n",
    "        print(\"Output\",number1+number2)\n",
    "    elif choice == 2:\n",
    "        number1 = int(input(\"Enter the first number \"))\n",
    "        number2 = int(input(\"Enter the second number \"))\n",
    "        print(\"Output\",number1 - number2)\n",
    "    elif choice == 3:\n",
    "        number1 = int(input(\"Enter the first number \"))\n",
    "        number2 = int(input(\"Enter the second number \"))\n",
    "        print(\"Output\",number1 * number2)\n",
    "    elif choice == 4:\n",
    "        number1 = int(input(\"Enter the first number \"))\n",
    "        number2 = int(input(\"Enter the second number \"))\n",
    "        print(\"Output\",number1/number2)\n",
    "    else:\n",
    "        break"
   ]
  },
  {
   "cell_type": "code",
   "execution_count": null,
   "id": "303ca61d-53fe-49f7-9935-c5d3118893c3",
   "metadata": {},
   "outputs": [],
   "source": []
  }
 ],
 "metadata": {
  "kernelspec": {
   "display_name": "Python 3 (ipykernel)",
   "language": "python",
   "name": "python3"
  },
  "language_info": {
   "codemirror_mode": {
    "name": "ipython",
    "version": 3
   },
   "file_extension": ".py",
   "mimetype": "text/x-python",
   "name": "python",
   "nbconvert_exporter": "python",
   "pygments_lexer": "ipython3",
   "version": "3.9.13"
  }
 },
 "nbformat": 4,
 "nbformat_minor": 5
}
