{
 "cells": [
  {
   "cell_type": "markdown",
   "id": "36bbd8dd-6a7c-4d70-9690-a1b5d9a87da5",
   "metadata": {},
   "source": [
    "Question 1:"
   ]
  },
  {
   "cell_type": "code",
   "execution_count": 2,
   "id": "87427df9-5927-4c6e-94dd-d18c0f69b450",
   "metadata": {},
   "outputs": [
    {
     "name": "stdin",
     "output_type": "stream",
     "text": [
      "Enter values comma separated  100,150,180\n"
     ]
    },
    {
     "name": "stdout",
     "output_type": "stream",
     "text": [
      "18,22,24\n"
     ]
    }
   ],
   "source": [
    "dtotal = list(map(int, input(\"Enter values comma separated \").split(\",\")))\n",
    "c = 50\n",
    "h = 30\n",
    "result = []\n",
    "for d in dtotal:\n",
    "    q = int((2*c*d/h)**0.5)\n",
    "    result.append(str(q))\n",
    "    \n",
    "print(\",\".join(result))"
   ]
  },
  {
   "cell_type": "markdown",
   "id": "e24baa21-7da5-4dc6-b78e-86bc29db17cb",
   "metadata": {},
   "source": [
    "Question 2:"
   ]
  },
  {
   "cell_type": "code",
   "execution_count": 3,
   "id": "1512378a-4fba-4d10-bcce-d3567030821c",
   "metadata": {},
   "outputs": [
    {
     "name": "stdin",
     "output_type": "stream",
     "text": [
      "Enter x  3\n",
      "Enter y  5\n"
     ]
    },
    {
     "name": "stdout",
     "output_type": "stream",
     "text": [
      "[[0, 0, 0, 0, 0], [0, 1, 2, 3, 4], [0, 2, 4, 6, 8]]\n"
     ]
    }
   ],
   "source": [
    "x = int(input(\"Enter x \"))\n",
    "y = int(input(\"Enter y \"))\n",
    "\n",
    "matrix = [[i*j for j in range(y)]for i in range(x)]\n",
    "print(matrix)\n"
   ]
  },
  {
   "cell_type": "markdown",
   "id": "a4a1ab49-8ff3-4209-b6a2-9e6c7f9149e7",
   "metadata": {},
   "source": [
    "Question 3:"
   ]
  },
  {
   "cell_type": "code",
   "execution_count": 4,
   "id": "9e394ef8-defa-4a45-a625-8ecf161ae623",
   "metadata": {},
   "outputs": [
    {
     "name": "stdin",
     "output_type": "stream",
     "text": [
      "Enter words comma separated  without,hello,bag,world\n"
     ]
    },
    {
     "name": "stdout",
     "output_type": "stream",
     "text": [
      "bag,hello,without,world\n"
     ]
    }
   ],
   "source": [
    "words = input(\"Enter words comma separated \").split(\",\")\n",
    "words.sort()\n",
    "print(\",\".join(words))\n"
   ]
  },
  {
   "cell_type": "markdown",
   "id": "e091d20d-1d89-484d-a4b4-0eb170f46512",
   "metadata": {},
   "source": [
    "Question 4:"
   ]
  },
  {
   "cell_type": "code",
   "execution_count": 5,
   "id": "f922dd18-4a13-4daa-b561-2a968b253747",
   "metadata": {},
   "outputs": [
    {
     "name": "stdin",
     "output_type": "stream",
     "text": [
      "Enter words comma separated  hello world and practice makes perfect and hello world again\n"
     ]
    },
    {
     "name": "stdout",
     "output_type": "stream",
     "text": [
      "again and hello makes perfect practice world\n"
     ]
    }
   ],
   "source": [
    "words = input(\"Enter words comma separated \").split()\n",
    "words = list(set(words))\n",
    "words.sort()\n",
    "print(\" \".join(words))\n"
   ]
  },
  {
   "cell_type": "markdown",
   "id": "6a71aa20-f251-4ca2-8d40-ff2d505f6546",
   "metadata": {},
   "source": [
    "Question 5:"
   ]
  },
  {
   "cell_type": "code",
   "execution_count": 6,
   "id": "7c679aa0-5743-4738-bdbe-754383caefef",
   "metadata": {},
   "outputs": [
    {
     "name": "stdin",
     "output_type": "stream",
     "text": [
      "enter sentence  hello world! 123\n"
     ]
    },
    {
     "name": "stdout",
     "output_type": "stream",
     "text": [
      "LETTERS  10\n",
      "DIGITS  3\n"
     ]
    }
   ],
   "source": [
    "sen = input(\"enter sentence \")\n",
    "LETTERS = 0\n",
    "DIGITS = 0\n",
    "\n",
    "for i in sen:\n",
    "    if i.isdigit():\n",
    "        DIGITS += 1\n",
    "    if i.isalpha():\n",
    "        LETTERS += 1\n",
    "print(\"LETTERS \", LETTERS)\n",
    "print(\"DIGITS \", DIGITS)\n"
   ]
  },
  {
   "cell_type": "markdown",
   "id": "1bb9b286-e075-4752-9864-d6ec86bf2172",
   "metadata": {},
   "source": [
    "Question 6:"
   ]
  },
  {
   "cell_type": "code",
   "execution_count": 7,
   "id": "dced2398-e86e-45f2-92c2-754cc639975d",
   "metadata": {},
   "outputs": [
    {
     "name": "stdin",
     "output_type": "stream",
     "text": [
      "Enter comma separated passwords  ABd1234@1,a F1#,2w3E*,2We3345,ABd1234@1234\n"
     ]
    },
    {
     "name": "stdout",
     "output_type": "stream",
     "text": [
      "ABd1234@1,ABd1234@1234\n"
     ]
    }
   ],
   "source": [
    "def ispass(password):\n",
    "    lower = False\n",
    "    upper = False\n",
    "    digit = False\n",
    "    special = False\n",
    "    if len(password) < 6 or len(password) > 12:\n",
    "        return False\n",
    "    else:\n",
    "        for i in password:\n",
    "            if i.isdigit():\n",
    "                digit = True\n",
    "            if 65 <= ord(i) <= 90:\n",
    "                lower = True\n",
    "            if 97 <= ord(i) <= 122:\n",
    "                upper = True\n",
    "            if i in \"$#@\":\n",
    "                special = True\n",
    "        return all([digit, lower, upper, special])\n",
    "\n",
    "\n",
    "passwords = input(\"Enter comma separated passwords \").split(\",\")\n",
    "result = []\n",
    "for password in passwords:\n",
    "    if ispass(password):\n",
    "        result.append(password)\n",
    "\n",
    "print(\",\".join(result))\n"
   ]
  }
 ],
 "metadata": {
  "kernelspec": {
   "display_name": "Python 3 (ipykernel)",
   "language": "python",
   "name": "python3"
  },
  "language_info": {
   "codemirror_mode": {
    "name": "ipython",
    "version": 3
   },
   "file_extension": ".py",
   "mimetype": "text/x-python",
   "name": "python",
   "nbconvert_exporter": "python",
   "pygments_lexer": "ipython3",
   "version": "3.9.13"
  }
 },
 "nbformat": 4,
 "nbformat_minor": 5
}
