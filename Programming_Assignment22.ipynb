{
 "cells": [
  {
   "cell_type": "markdown",
   "id": "d20c2ee4-aa6d-4f3b-a06c-639af76adc3c",
   "metadata": {},
   "source": [
    "Question1\n",
    "Create a function that takes three parameters where:\n",
    " x is the start of the range (inclusive).\n",
    " y is the end of the range (inclusive).\n",
    " n is the divisor to be checked against.\n",
    "Return an ordered list with numbers in the range that are divisible by the third parameter n.\n",
    "Return an empty list if there are no numbers that are divisible by n."
   ]
  },
  {
   "cell_type": "code",
   "execution_count": 1,
   "id": "76ecafc4-f990-4633-b501-cf10cc4d844d",
   "metadata": {},
   "outputs": [
    {
     "name": "stdout",
     "output_type": "stream",
     "text": [
      "[3, 6, 9]\n"
     ]
    }
   ],
   "source": [
    "def list_operation(x,y,n):\n",
    "    result = []\n",
    "    for i in range(x,y+1):\n",
    "        if i %n == 0:\n",
    "            result.append(i)\n",
    "    return result\n",
    "\n",
    "print(list_operation(1, 10, 3))"
   ]
  },
  {
   "cell_type": "markdown",
   "id": "b36513b7-2c45-48e5-b173-3a14de306ba7",
   "metadata": {},
   "source": [
    "Question2\n",
    "Create a function that takes in two lists and returns True if the second list follows the first list\n",
    "by one element, and False otherwise. In other words, determine if the second list is the first\n",
    "list shifted to the right by 1."
   ]
  },
  {
   "cell_type": "code",
   "execution_count": 2,
   "id": "3ef28d64-9d87-4881-836d-af7d31ce2f8b",
   "metadata": {},
   "outputs": [
    {
     "name": "stdout",
     "output_type": "stream",
     "text": [
      "True\n"
     ]
    }
   ],
   "source": [
    "def simon_says(lst1, lst2):\n",
    "    return lst1[:len(lst1)-1]==lst2[1:]\n",
    "\n",
    "\n",
    "print(simon_says([1, 2, 3, 4, 5], [0, 1, 2, 3, 4]))"
   ]
  },
  {
   "cell_type": "markdown",
   "id": "5883167f-ba6c-47ca-be93-fdc890575396",
   "metadata": {},
   "source": [
    "Question3\n",
    "A group of friends have decided to start a secret society. The name will be the first letter of\n",
    "each of their names, sorted in alphabetical order.\n",
    "Create a function that takes in a list of names and returns the name of the secret society."
   ]
  },
  {
   "cell_type": "code",
   "execution_count": 3,
   "id": "d6176715-0b9f-4158-9f37-ddea9900294c",
   "metadata": {},
   "outputs": [
    {
     "name": "stdout",
     "output_type": "stream",
     "text": [
      "AMS\n"
     ]
    }
   ],
   "source": [
    "def society_name(lst1):\n",
    "    result = []\n",
    "    for i in lst1:\n",
    "        result.append(i[0])\n",
    "    result.sort()\n",
    "    return \"\".join(result)\n",
    "\n",
    "\n",
    "print(society_name([\"Adam\",\"Sarah\",\"Malcolm\"]))"
   ]
  },
  {
   "cell_type": "markdown",
   "id": "5f2a7e69-e437-4c1e-9e00-066c57541681",
   "metadata": {},
   "source": [
    "Question4\n",
    "An isogram is a word that has no duplicate letters. Create a function that takes a string and\n",
    "returns either True or False depending on whether or not it&#39;s an &quot;isogram&quot;."
   ]
  },
  {
   "cell_type": "code",
   "execution_count": 4,
   "id": "531a577b-f747-4edb-a29f-ca0fae33c5d3",
   "metadata": {},
   "outputs": [
    {
     "name": "stdout",
     "output_type": "stream",
     "text": [
      "True\n"
     ]
    }
   ],
   "source": [
    "def is_isogram(word):\n",
    "    word = word.lower()\n",
    "    for i in word:\n",
    "        if word.count(i)>1:\n",
    "            return False\n",
    "    else:\n",
    "        return True\n",
    "\n",
    "\n",
    "print(is_isogram(\"Algorism\"))"
   ]
  },
  {
   "cell_type": "markdown",
   "id": "789acb17-cf01-4313-8941-9ee092b998f5",
   "metadata": {},
   "source": [
    "Question5\n",
    "Create a function that takes a string and returns True or False, depending on whether the\n",
    "characters are in order or not."
   ]
  },
  {
   "cell_type": "code",
   "execution_count": 5,
   "id": "1b9b4528-5dcd-4b34-81a8-71307efe110f",
   "metadata": {},
   "outputs": [
    {
     "name": "stdout",
     "output_type": "stream",
     "text": [
      "True\n"
     ]
    }
   ],
   "source": [
    "def is_in_order(word):\n",
    "    A = list(word)\n",
    "    A.sort()\n",
    "    word1 = \"\".join(A)\n",
    "    return word==word1\n",
    "\n",
    "print(is_in_order(\"xyzz\"))"
   ]
  }
 ],
 "metadata": {
  "kernelspec": {
   "display_name": "Python 3 (ipykernel)",
   "language": "python",
   "name": "python3"
  },
  "language_info": {
   "codemirror_mode": {
    "name": "ipython",
    "version": 3
   },
   "file_extension": ".py",
   "mimetype": "text/x-python",
   "name": "python",
   "nbconvert_exporter": "python",
   "pygments_lexer": "ipython3",
   "version": "3.9.13"
  }
 },
 "nbformat": 4,
 "nbformat_minor": 5
}
