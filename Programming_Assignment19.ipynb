{
 "cells": [
  {
   "cell_type": "markdown",
   "id": "5d9e84ec-ebd5-46a1-b33f-657560732461",
   "metadata": {},
   "source": [
    "Question1\n",
    "Create a function that takes a string and returns a string in which each character is repeated\n",
    "once."
   ]
  },
  {
   "cell_type": "code",
   "execution_count": 1,
   "id": "01f9636d-8ef3-4148-ad76-bfd154fe6f8c",
   "metadata": {},
   "outputs": [
    {
     "name": "stdout",
     "output_type": "stream",
     "text": [
      "SSttrriinngg\n"
     ]
    }
   ],
   "source": [
    "def double_char(string1):\n",
    "    result = \"\"\n",
    "    for i in string1:\n",
    "        result += i*2\n",
    "\n",
    "    return result\n",
    "\n",
    "\n",
    "print(double_char(\"String\"))"
   ]
  },
  {
   "cell_type": "markdown",
   "id": "a5c4fb42-c588-41d4-a094-477837f1482b",
   "metadata": {},
   "source": [
    "Question2\n",
    "Create a function that reverses a boolean value and returns the string \"boolean expected\"\n",
    "if another variable type is given."
   ]
  },
  {
   "cell_type": "code",
   "execution_count": 2,
   "id": "85b6dafe-c056-4f48-898c-36e9fa5b9f72",
   "metadata": {},
   "outputs": [
    {
     "name": "stdout",
     "output_type": "stream",
     "text": [
      "False\n"
     ]
    }
   ],
   "source": [
    "def reverse(val):\n",
    "    if val:\n",
    "        return not val\n",
    "    elif not val:\n",
    "        return not val\n",
    "    else:\n",
    "        return \"Boolean expected\"\n",
    "\n",
    "\n",
    "print(reverse(True))"
   ]
  },
  {
   "cell_type": "markdown",
   "id": "e56a6f0f-8b5e-4c88-a318-eb5f87edb15d",
   "metadata": {},
   "source": [
    "Question3\n",
    "Create a function that returns the thickness (in meters) of a piece of paper after folding it n\n",
    "number of times. The paper starts off with a thickness of 0.5mm."
   ]
  },
  {
   "cell_type": "code",
   "execution_count": 3,
   "id": "b79794ca-368d-4ff0-8fdf-18a825729dba",
   "metadata": {},
   "outputs": [
    {
     "name": "stdout",
     "output_type": "stream",
     "text": [
      "1048.576m\n"
     ]
    }
   ],
   "source": [
    "def num_layers(n):\n",
    "    return str(0.5*2**n/1000)+\"m\"\n",
    "\n",
    "\n",
    "print(num_layers(21))"
   ]
  },
  {
   "cell_type": "markdown",
   "id": "43565599-0337-40d8-a23f-d78a4c1cb977",
   "metadata": {},
   "source": [
    "Question4\n",
    "Create a function that takes a single string as argument and returns an ordered list containing\n",
    "the indices of all capital letters in the string."
   ]
  },
  {
   "cell_type": "code",
   "execution_count": 4,
   "id": "24a57e5f-fc52-4545-b9ec-b71c2cfce62f",
   "metadata": {},
   "outputs": [
    {
     "name": "stdout",
     "output_type": "stream",
     "text": [
      "[1, 3, 5]\n"
     ]
    }
   ],
   "source": [
    "def index_of_caps(string1):\n",
    "    result = []\n",
    "    for i in string1:\n",
    "        if i.isupper():\n",
    "            result.append(string1.index(i))\n",
    "    return result\n",
    "\n",
    "\n",
    "print(index_of_caps(\"eDaBiT\"))"
   ]
  },
  {
   "cell_type": "markdown",
   "id": "f3125c35-9b45-401a-813c-852bc3a2ad8d",
   "metadata": {},
   "source": [
    "Question5\n",
    "Using list comprehensions, create a function that finds all even numbers from 1 to the given\n",
    "number."
   ]
  },
  {
   "cell_type": "code",
   "execution_count": 5,
   "id": "6bdeed84-49c9-4b27-81ee-a968058736af",
   "metadata": {},
   "outputs": [
    {
     "name": "stdout",
     "output_type": "stream",
     "text": [
      "[2, 4]\n"
     ]
    }
   ],
   "source": [
    "def find_even_nums(n):\n",
    "    return [i for i in range(2, n+1, 2)]\n",
    "\n",
    "\n",
    "print(find_even_nums(4))"
   ]
  }
 ],
 "metadata": {
  "kernelspec": {
   "display_name": "Python 3 (ipykernel)",
   "language": "python",
   "name": "python3"
  },
  "language_info": {
   "codemirror_mode": {
    "name": "ipython",
    "version": 3
   },
   "file_extension": ".py",
   "mimetype": "text/x-python",
   "name": "python",
   "nbconvert_exporter": "python",
   "pygments_lexer": "ipython3",
   "version": "3.9.13"
  }
 },
 "nbformat": 4,
 "nbformat_minor": 5
}
