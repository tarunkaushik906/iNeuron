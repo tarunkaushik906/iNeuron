{
 "cells": [
  {
   "cell_type": "markdown",
   "id": "bd5133e4-1e0d-4f30-91cc-7115f8c73b0e",
   "metadata": {},
   "source": [
    "1. Write a Python program to Extract Unique values dictionary values?"
   ]
  },
  {
   "cell_type": "code",
   "execution_count": 1,
   "id": "091cb83d-5cc3-4a4b-b762-dfa3e7ed9911",
   "metadata": {},
   "outputs": [
    {
     "name": "stdout",
     "output_type": "stream",
     "text": [
      "{'cherry', 'potato', 'apple'}\n"
     ]
    }
   ],
   "source": [
    "def unique(dict):\n",
    "    values = set([value for value in dict.values()])\n",
    "    print(values)\n",
    "\n",
    "d = {1:\"apple\",2:\"potato\",3:\"apple\",4:\"cherry\"}\n",
    "unique(d)"
   ]
  },
  {
   "cell_type": "markdown",
   "id": "850566be-9e83-4153-af61-30907cf875ef",
   "metadata": {},
   "source": [
    "2. Write a Python program to find the sum of all items in a dictionary?"
   ]
  },
  {
   "cell_type": "code",
   "execution_count": 2,
   "id": "99348528-2fc7-4d45-b501-4a44ede6a91f",
   "metadata": {},
   "outputs": [
    {
     "name": "stdout",
     "output_type": "stream",
     "text": [
      "10\n"
     ]
    }
   ],
   "source": [
    "def unique(dict):\n",
    "    values = sum([value for value in dict.keys()])\n",
    "    print(values)\n",
    "\n",
    "d = {1:\"apple\",2:\"potato\",3:\"apple\",4:\"cherry\"}\n",
    "unique(d)"
   ]
  },
  {
   "cell_type": "markdown",
   "id": "5bb836e0-60a0-4ea3-9fc1-4bb51fb5e22f",
   "metadata": {},
   "source": [
    "3. Write a Python program to Merging two Dictionaries?"
   ]
  },
  {
   "cell_type": "code",
   "execution_count": 3,
   "id": "4f7ea1b6-f242-441e-84a0-eab7a42772b2",
   "metadata": {},
   "outputs": [
    {
     "name": "stdout",
     "output_type": "stream",
     "text": [
      "{1: 'apple', 2: 'potato', 3: 'apple', 4: 'cherry'}\n"
     ]
    }
   ],
   "source": [
    "d = {1:\"apple\",2:\"potato\"}\n",
    "d2 = {3:\"apple\",4:\"cherry\"}\n",
    "for i in d2.keys():\n",
    "    d[i]=d2[i]\n",
    "print(d)"
   ]
  },
  {
   "cell_type": "markdown",
   "id": "dcddd8bb-1747-4792-a54c-3d235a682414",
   "metadata": {},
   "source": [
    "4. Write a Python program to convert key-values list to flat dictionary?"
   ]
  },
  {
   "cell_type": "code",
   "execution_count": 5,
   "id": "2e10c0c2-75c5-4c77-8a64-a722e46a7821",
   "metadata": {},
   "outputs": [
    {
     "name": "stdout",
     "output_type": "stream",
     "text": [
      "Flattened dictionary :  {1: 'Jan', 2: 'Feb', 3: 'March'}\n"
     ]
    }
   ],
   "source": [
    "test_dict = {'month' : [1, 2, 3],\n",
    "            'name' : ['Jan', 'Feb', 'March']}\n",
    "\n",
    "x=list(test_dict.values())\n",
    "a=x[0]\n",
    "b=x[1]\n",
    "d=dict()\n",
    "for i in range(0,len(a)):\n",
    "    d[a[i]]=b[i]\n",
    "\n",
    "print(\"Flattened dictionary : \",d)"
   ]
  },
  {
   "cell_type": "markdown",
   "id": "01a3818c-450b-4b7c-919c-7a933db53bc1",
   "metadata": {},
   "source": [
    "5. Write a Python program to insertion at the beginning in OrderedDict?"
   ]
  },
  {
   "cell_type": "code",
   "execution_count": 6,
   "id": "0e814faa-e5c5-4a84-9ed7-7a591f4ffd2f",
   "metadata": {},
   "outputs": [
    {
     "name": "stdin",
     "output_type": "stream",
     "text": [
      "Enter key to be inserted  3\n",
      "Enter value to be inserted  cherry\n"
     ]
    },
    {
     "name": "stdout",
     "output_type": "stream",
     "text": [
      "OrderedDict([('3', 'cherry'), ('1', 'apple'), ('2', 'mango')])\n"
     ]
    }
   ],
   "source": [
    "from collections import OrderedDict\n",
    "\n",
    "d1 = OrderedDict({\"1\": \"apple\", \"2\": \"mango\"})\n",
    "key = input(\"Enter key to be inserted \")\n",
    "value = input(\"Enter value to be inserted \")\n",
    "\n",
    "\n",
    "d1.update({key:value})\n",
    "d1.move_to_end(key, last=False)\n",
    "print(str(d1))"
   ]
  },
  {
   "cell_type": "markdown",
   "id": "f15e5cb8-e83f-480b-ac56-2391022166f1",
   "metadata": {},
   "source": [
    "6. Write a Python program to check order of character in string using OrderedDict()?"
   ]
  },
  {
   "cell_type": "code",
   "execution_count": 7,
   "id": "66678f49-95b6-4037-978c-89cf97908e50",
   "metadata": {},
   "outputs": [
    {
     "name": "stdin",
     "output_type": "stream",
     "text": [
      "Enter string  engineers rock\n",
      "Enter pattern  gsr\n"
     ]
    },
    {
     "name": "stdout",
     "output_type": "stream",
     "text": [
      "False\n"
     ]
    }
   ],
   "source": [
    "from collections import OrderedDict\n",
    "\n",
    "s = input(\"Enter string \")\n",
    "dict = OrderedDict.fromkeys(s)\n",
    "p = input(\"Enter pattern \")\n",
    "\n",
    "pl = 0\n",
    "for key in dict.keys():\n",
    "    if key in p:\n",
    "        if key!=p[pl]:\n",
    "            print(False)\n",
    "            break\n",
    "        pl += 1\n",
    "else:\n",
    "    print(True)"
   ]
  },
  {
   "cell_type": "markdown",
   "id": "3bc9dff0-157c-4da8-8948-27c3a687ecc9",
   "metadata": {},
   "source": [
    "7. Write a Python program to sort Python Dictionaries by Key or Value?"
   ]
  },
  {
   "cell_type": "code",
   "execution_count": 9,
   "id": "280bf3c2-4fc8-4a74-bae3-b5c1714a0801",
   "metadata": {},
   "outputs": [
    {
     "name": "stdout",
     "output_type": "stream",
     "text": [
      "{1: 'mango', 2: 'apple', 3: 'pineapple', 4: 'orange', 5: 'cherry'}\n"
     ]
    }
   ],
   "source": [
    "d = {2:\"apple\",5:\"cherry\",1:\"mango\",4:\"orange\",3:\"pineapple\"}\n",
    "d2={}\n",
    "\n",
    "keys = [key for key in d.keys()]\n",
    "keys.sort()\n",
    "\n",
    "for key in keys:\n",
    "    d2[key] = d[key]\n",
    "    \n",
    "print(d2)"
   ]
  }
 ],
 "metadata": {
  "kernelspec": {
   "display_name": "Python 3 (ipykernel)",
   "language": "python",
   "name": "python3"
  },
  "language_info": {
   "codemirror_mode": {
    "name": "ipython",
    "version": 3
   },
   "file_extension": ".py",
   "mimetype": "text/x-python",
   "name": "python",
   "nbconvert_exporter": "python",
   "pygments_lexer": "ipython3",
   "version": "3.9.13"
  }
 },
 "nbformat": 4,
 "nbformat_minor": 5
}
